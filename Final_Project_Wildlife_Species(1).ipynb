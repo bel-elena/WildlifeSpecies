{
 "cells": [
  {
   "cell_type": "markdown",
   "metadata": {
    "id": "K_UYBcDhgYJZ"
   },
   "source": [
    "### Notebook, Final Project Work, CAS Applied Data Science, Elena Beletsioti, University of Bern. "
   ]
  },
  {
   "cell_type": "markdown",
   "metadata": {
    "id": "sYSE_UTEglXd"
   },
   "source": [
    "# Wildlife Species Image Classification using Camera Trap Images\n",
    "\n",
    "### Primary Objectives\n",
    "\n",
    "\n",
    "The goal of this project is to classify the species that appear in camera trap images in the Taï National Park,  a national park in Côte d'Ivoire, collected by the Wild Chimpanzee Foundation and the Max Planck Institute for Evolutionary Anthropology. \n",
    "\n",
    "Camera traps are one of the best tools available to study and monitor wildlife populations, and the enormous amounts of data they provide can be used to track different species for conservation efforts—once they are processed.\n",
    "\n",
    "The dataset contains 20.952 camera trap images which were captured at the Tai National Park in Côte d'Ivoire. They were assigned to either birds, civets, duikers, hogs, leopards, other monkeys, and rodents. There are also images that contain no animals. \n",
    "\n",
    "The aim of this project is to build a model that can help predict whether an image contains one of these seven types of species."
   ]
  },
  {
   "cell_type": "markdown",
   "metadata": {
    "id": "JytaTxb8gwtb"
   },
   "source": [
    "## 1. Import modules we may need"
   ]
  },
  {
   "cell_type": "code",
   "execution_count": 2,
   "metadata": {
    "id": "K9BWCmwcgU_P"
   },
   "outputs": [],
   "source": [
    "# Import necessary modules:\n",
    "\n",
    "from sklearn import linear_model\n",
    "from sklearn import tree\n",
    "from sklearn import ensemble\n",
    "\n",
    "from sklearn.datasets import make_blobs\n",
    "from sklearn.model_selection import train_test_split\n",
    "from sklearn import metrics\n",
    "from sklearn.inspection import permutation_importance\n",
    "\n",
    "# Common visualization module\n",
    "from matplotlib import pyplot as plt\n",
    "import seaborn as sns\n",
    "sns.set()\n",
    "\n",
    "# Numeric library\n",
    "import numpy as np\n",
    "import matplotlib.pyplot as plt\n",
    "\n",
    "\n",
    "import os\n",
    "import pandas as pd\n",
    "from time import time as timer\n",
    "import tarfile\n",
    "from scipy import stats\n",
    "import scipy.stats\n",
    "import seaborn as sns\n",
    "\n",
    "%matplotlib inline\n",
    "from matplotlib import animation\n",
    "from IPython.display import HTML\n",
    "\n",
    "from PIL import Image\n",
    "from tqdm import tqdm\n"
   ]
  },
  {
   "cell_type": "code",
   "execution_count": 3,
   "metadata": {
    "id": "3ByOpW6_6b2o"
   },
   "outputs": [],
   "source": [
    "import matplotlib.pyplot as plt\n",
    "import numpy as np\n",
    "import os\n",
    "import PIL\n",
    "import pathlib"
   ]
  },
  {
   "cell_type": "code",
   "execution_count": 4,
   "metadata": {
    "colab": {
     "base_uri": "https://localhost:8080/"
    },
    "id": "kLXf170dd16w",
    "outputId": "263f500a-bec4-497f-bcc3-91158798c172"
   },
   "outputs": [
    {
     "name": "stdout",
     "output_type": "stream",
     "text": [
      "C:\\Users\\ebele\\Desktop\\CAS Uni Bern\\_Final Project Work\\Original Data Sets\n",
      "20952\n",
      "C:/Users/ebele/Desktop/CAS Uni Bern/_Final Project Work/Original Data Sets/\n"
     ]
    }
   ],
   "source": [
    "# Load data \n",
    "\n",
    "\n",
    "folder_prefix = \"C:\\\\Users\\\\ebele\\\\Desktop\\\\CAS Uni Bern\\\\_Final Project Work\\\\Original Data Sets\\\\\"\n",
    "data_dir = pathlib.Path(folder_prefix)\n",
    "print(data_dir)\n",
    "\n",
    "image_count = len(list(data_dir.glob('*\\*.jpg')))\n",
    "print(image_count)\n",
    "\n",
    "folder_prefix_no_escape = \"C:/Users/ebele/Desktop/CAS Uni Bern/_Final Project Work/Original Data Sets/\"\n",
    "print(folder_prefix_no_escape)\n"
   ]
  },
  {
   "cell_type": "code",
   "execution_count": 5,
   "metadata": {
    "colab": {
     "base_uri": "https://localhost:8080/",
     "height": 256
    },
    "id": "mK2LsHn5Z3cD",
    "outputId": "1b70899d-ffac-4c61-e580-0cc1ac7b43c6"
   },
   "outputs": [
    {
     "name": "stdout",
     "output_type": "stream",
     "text": [
      "Table train features\n",
      "Photos exist: 16488 / Not exist: 0\n"
     ]
    }
   ],
   "source": [
    "# Import cvs files from google drive\n",
    "\n",
    "import pandas as pd\n",
    "import os\n",
    "\n",
    "train_features = pd.read_csv(folder_prefix + \"train_features.csv\", index_col=\"id\")\n",
    "print(\"Table train features\")\n",
    "train_features.head()\n",
    "\n",
    "# Validate for Train Features - that download is completed without glitch ( see Chatpter 3.3 Data Quality in Report)\n",
    "num_exist = 0\n",
    "num_not_exist = 0\n",
    "\n",
    "for index, row in train_features.iterrows():\n",
    "    filename = row['filepath']\n",
    "    if os.path.exists(folder_prefix + filename):\n",
    "        num_exist += 1\n",
    "    else:\n",
    "        num_not_exist += 1\n",
    "        \n",
    "print(\"Photos exist: \" + str(num_exist) + \" / Not exist: \" + str(num_not_exist))"
   ]
  },
  {
   "cell_type": "code",
   "execution_count": 6,
   "metadata": {
    "colab": {
     "base_uri": "https://localhost:8080/",
     "height": 256
    },
    "id": "2abedwRse5yP",
    "outputId": "4b2ce2d7-5202-4395-f949-e530f0820e38"
   },
   "outputs": [
    {
     "name": "stdout",
     "output_type": "stream",
     "text": [
      "Table test features\n",
      "Photos exist: 4464 / Not exist: 0\n"
     ]
    }
   ],
   "source": [
    "# Validate for Test Features - that download is completed without glitch ( see Chatpter 3.3 Data Quality in Report)\n",
    "test_features = pd.read_csv(folder_prefix + \"test_features.csv\", index_col=\"id\")\n",
    "print(\"Table test features\")\n",
    "test_features.head()\n",
    "\n",
    "num_exist = 0\n",
    "num_not_exist = 0\n",
    "\n",
    "for index, row in test_features.iterrows():\n",
    "    filename = row['filepath']\n",
    "    if os.path.exists(folder_prefix + filename):\n",
    "        num_exist += 1\n",
    "    else:\n",
    "        num_not_exist += 1\n",
    "        \n",
    "print(\"Photos exist: \" + str(num_exist) + \" / Not exist: \" + str(num_not_exist))\n"
   ]
  },
  {
   "cell_type": "code",
   "execution_count": 7,
   "metadata": {
    "colab": {
     "base_uri": "https://localhost:8080/",
     "height": 256
    },
    "id": "pfwYK_i4fORR",
    "outputId": "202b0846-7041-42d5-dcda-869867cc39c5"
   },
   "outputs": [
    {
     "name": "stdout",
     "output_type": "stream",
     "text": [
      "Table train labels\n"
     ]
    },
    {
     "data": {
      "text/html": [
       "<div>\n",
       "<style scoped>\n",
       "    .dataframe tbody tr th:only-of-type {\n",
       "        vertical-align: middle;\n",
       "    }\n",
       "\n",
       "    .dataframe tbody tr th {\n",
       "        vertical-align: top;\n",
       "    }\n",
       "\n",
       "    .dataframe thead th {\n",
       "        text-align: right;\n",
       "    }\n",
       "</style>\n",
       "<table border=\"1\" class=\"dataframe\">\n",
       "  <thead>\n",
       "    <tr style=\"text-align: right;\">\n",
       "      <th></th>\n",
       "      <th>antelope_duiker</th>\n",
       "      <th>bird</th>\n",
       "      <th>blank</th>\n",
       "      <th>civet_genet</th>\n",
       "      <th>hog</th>\n",
       "      <th>leopard</th>\n",
       "      <th>monkey_prosimian</th>\n",
       "      <th>rodent</th>\n",
       "    </tr>\n",
       "    <tr>\n",
       "      <th>id</th>\n",
       "      <th></th>\n",
       "      <th></th>\n",
       "      <th></th>\n",
       "      <th></th>\n",
       "      <th></th>\n",
       "      <th></th>\n",
       "      <th></th>\n",
       "      <th></th>\n",
       "    </tr>\n",
       "  </thead>\n",
       "  <tbody>\n",
       "    <tr>\n",
       "      <th>ZJ000000</th>\n",
       "      <td>0.0</td>\n",
       "      <td>1.0</td>\n",
       "      <td>0.0</td>\n",
       "      <td>0.0</td>\n",
       "      <td>0.0</td>\n",
       "      <td>0.0</td>\n",
       "      <td>0.0</td>\n",
       "      <td>0.0</td>\n",
       "    </tr>\n",
       "    <tr>\n",
       "      <th>ZJ000001</th>\n",
       "      <td>0.0</td>\n",
       "      <td>0.0</td>\n",
       "      <td>0.0</td>\n",
       "      <td>0.0</td>\n",
       "      <td>0.0</td>\n",
       "      <td>0.0</td>\n",
       "      <td>1.0</td>\n",
       "      <td>0.0</td>\n",
       "    </tr>\n",
       "    <tr>\n",
       "      <th>ZJ000002</th>\n",
       "      <td>0.0</td>\n",
       "      <td>1.0</td>\n",
       "      <td>0.0</td>\n",
       "      <td>0.0</td>\n",
       "      <td>0.0</td>\n",
       "      <td>0.0</td>\n",
       "      <td>0.0</td>\n",
       "      <td>0.0</td>\n",
       "    </tr>\n",
       "    <tr>\n",
       "      <th>ZJ000003</th>\n",
       "      <td>0.0</td>\n",
       "      <td>0.0</td>\n",
       "      <td>0.0</td>\n",
       "      <td>0.0</td>\n",
       "      <td>0.0</td>\n",
       "      <td>0.0</td>\n",
       "      <td>1.0</td>\n",
       "      <td>0.0</td>\n",
       "    </tr>\n",
       "    <tr>\n",
       "      <th>ZJ000004</th>\n",
       "      <td>0.0</td>\n",
       "      <td>0.0</td>\n",
       "      <td>0.0</td>\n",
       "      <td>0.0</td>\n",
       "      <td>0.0</td>\n",
       "      <td>1.0</td>\n",
       "      <td>0.0</td>\n",
       "      <td>0.0</td>\n",
       "    </tr>\n",
       "  </tbody>\n",
       "</table>\n",
       "</div>"
      ],
      "text/plain": [
       "          antelope_duiker  bird  blank  civet_genet  hog  leopard  \\\n",
       "id                                                                  \n",
       "ZJ000000              0.0   1.0    0.0          0.0  0.0      0.0   \n",
       "ZJ000001              0.0   0.0    0.0          0.0  0.0      0.0   \n",
       "ZJ000002              0.0   1.0    0.0          0.0  0.0      0.0   \n",
       "ZJ000003              0.0   0.0    0.0          0.0  0.0      0.0   \n",
       "ZJ000004              0.0   0.0    0.0          0.0  0.0      1.0   \n",
       "\n",
       "          monkey_prosimian  rodent  \n",
       "id                                  \n",
       "ZJ000000               0.0     0.0  \n",
       "ZJ000001               1.0     0.0  \n",
       "ZJ000002               0.0     0.0  \n",
       "ZJ000003               1.0     0.0  \n",
       "ZJ000004               0.0     0.0  "
      ]
     },
     "execution_count": 7,
     "metadata": {},
     "output_type": "execute_result"
    }
   ],
   "source": [
    "# Preview\n",
    "train_labels = pd.read_csv(folder_prefix + \"train_labels.csv\", index_col=\"id\")\n",
    "print(\"Table train labels\")\n",
    "train_labels.head()"
   ]
  },
  {
   "cell_type": "code",
   "execution_count": 8,
   "metadata": {
    "colab": {
     "base_uri": "https://localhost:8080/"
    },
    "id": "c1dnXIy4nEA5",
    "outputId": "80627bd5-04ca-466e-8c7b-5ec9517f4325"
   },
   "outputs": [
    {
     "data": {
      "text/plain": [
       "['antelope_duiker',\n",
       " 'bird',\n",
       " 'blank',\n",
       " 'civet_genet',\n",
       " 'hog',\n",
       " 'leopard',\n",
       " 'monkey_prosimian',\n",
       " 'rodent']"
      ]
     },
     "execution_count": 8,
     "metadata": {},
     "output_type": "execute_result"
    }
   ],
   "source": [
    "# Sort labels\n",
    "species_labels = sorted(train_labels.columns.unique())\n",
    "species_labels"
   ]
  },
  {
   "cell_type": "markdown",
   "metadata": {
    "id": "KmEitJbXnkYZ"
   },
   "source": [
    "## 2. Explore dataset"
   ]
  },
  {
   "cell_type": "code",
   "execution_count": 9,
   "metadata": {
    "colab": {
     "base_uri": "https://localhost:8080/",
     "height": 1000
    },
    "id": "H3K_htMC1L08",
    "outputId": "22678a37-513c-4e05-e0f5-e414c51064e2"
   },
   "outputs": [
    {
     "name": "stdout",
     "output_type": "stream",
     "text": [
      "Printing image: ZJ016488.jpg\n"
     ]
    },
    {
     "data": {
      "image/jpeg": "[encoded data removed]",
      "text/plain": [
       "<IPython.core.display.Image object>"
      ]
     },
     "metadata": {},
     "output_type": "display_data"
    },
    {
     "name": "stdout",
     "output_type": "stream",
     "text": [
      "Printing image: ZJ016489.jpg\n"
     ]
    },
    {
     "data": {
      "image/jpeg": "[encoded data removed]",
      "text/plain": [
       "<IPython.core.display.Image object>"
      ]
     },
     "metadata": {},
     "output_type": "display_data"
    },
    {
     "name": "stdout",
     "output_type": "stream",
     "text": [
      "Printing image: ZJ016490.jpg\n"
     ]
    },
    {
     "data": {
      "image/jpeg": "[encoded data removed]",
      "text/plain": [
       "<IPython.core.display.Image object>"
      ]
     },
     "metadata": {},
     "output_type": "display_data"
    }
   ],
   "source": [
    "import os\n",
    "from IPython.display import Image\n",
    "\n",
    "\n",
    "# Show images from test_features folder \n",
    "\n",
    "path_test = folder_prefix + \"test_features/\"\n",
    "#we shall store all the file names in this list\n",
    "test_features_filelist = os.listdir(path_test)\n",
    "\n",
    "i = 1\n",
    "numPhotosPlot = 3   # Number of photos to plot\n",
    "\n",
    "# Print all the file pictures\n",
    "for filename in test_features_filelist:\n",
    "    print(\"Printing image: \" + filename)\n",
    "    filepath = path_test  + filename\n",
    "    display(Image(filepath))\n",
    "    if i >= numPhotosPlot:\n",
    "        break # Stop this for loop\n",
    "    i = i + 1 \n",
    "\n"
   ]
  },
  {
   "cell_type": "code",
   "execution_count": 10,
   "metadata": {
    "colab": {
     "base_uri": "https://localhost:8080/",
     "height": 1000
    },
    "id": "BwawAWqH_uR7",
    "outputId": "1d2ca02e-929e-4534-cd4c-56dd9a437182"
   },
   "outputs": [
    {
     "ename": "FileNotFoundError",
     "evalue": "[Errno 2] No such file or directory: 'train_features/ZJ006000.jpg'",
     "output_type": "error",
     "traceback": [
      "\u001b[1;31m---------------------------------------------------------------------------\u001b[0m",
      "\u001b[1;31mFileNotFoundError\u001b[0m                         Traceback (most recent call last)",
      "\u001b[1;32m<ipython-input-10-58cdb228623c>\u001b[0m in \u001b[0;36m<module>\u001b[1;34m\u001b[0m\n\u001b[0;32m     21\u001b[0m     )\n\u001b[0;32m     22\u001b[0m     \u001b[1;31m# Read the filepath and return a numpy array\u001b[0m\u001b[1;33m\u001b[0m\u001b[1;33m\u001b[0m\u001b[1;33m\u001b[0m\u001b[0m\n\u001b[1;32m---> 23\u001b[1;33m     \u001b[0mimg\u001b[0m \u001b[1;33m=\u001b[0m \u001b[0mmpimg\u001b[0m\u001b[1;33m.\u001b[0m\u001b[0mimread\u001b[0m\u001b[1;33m(\u001b[0m\u001b[0mtrain_features\u001b[0m\u001b[1;33m.\u001b[0m\u001b[0mloc\u001b[0m\u001b[1;33m[\u001b[0m\u001b[0mimg_id\u001b[0m\u001b[1;33m]\u001b[0m\u001b[1;33m.\u001b[0m\u001b[0mfilepath\u001b[0m\u001b[1;33m)\u001b[0m\u001b[1;33m\u001b[0m\u001b[1;33m\u001b[0m\u001b[0m\n\u001b[0m\u001b[0;32m     24\u001b[0m     \u001b[1;31m# Plotting\u001b[0m\u001b[1;33m\u001b[0m\u001b[1;33m\u001b[0m\u001b[1;33m\u001b[0m\u001b[0m\n\u001b[0;32m     25\u001b[0m     \u001b[0max\u001b[0m\u001b[1;33m.\u001b[0m\u001b[0mimshow\u001b[0m\u001b[1;33m(\u001b[0m\u001b[0mimg\u001b[0m\u001b[1;33m)\u001b[0m\u001b[1;33m\u001b[0m\u001b[1;33m\u001b[0m\u001b[0m\n",
      "\u001b[1;32m~\\anaconda3\\lib\\site-packages\\matplotlib\\image.py\u001b[0m in \u001b[0;36mimread\u001b[1;34m(fname, format)\u001b[0m\n\u001b[0;32m   1462\u001b[0m             raise ValueError('Only know how to handle PNG; with Pillow '\n\u001b[0;32m   1463\u001b[0m                              'installed, Matplotlib can handle more images')\n\u001b[1;32m-> 1464\u001b[1;33m         \u001b[1;32mwith\u001b[0m \u001b[0mImage\u001b[0m\u001b[1;33m.\u001b[0m\u001b[0mopen\u001b[0m\u001b[1;33m(\u001b[0m\u001b[0mfname\u001b[0m\u001b[1;33m)\u001b[0m \u001b[1;32mas\u001b[0m \u001b[0mimage\u001b[0m\u001b[1;33m:\u001b[0m\u001b[1;33m\u001b[0m\u001b[1;33m\u001b[0m\u001b[0m\n\u001b[0m\u001b[0;32m   1465\u001b[0m             \u001b[1;32mreturn\u001b[0m \u001b[0mpil_to_array\u001b[0m\u001b[1;33m(\u001b[0m\u001b[0mimage\u001b[0m\u001b[1;33m)\u001b[0m\u001b[1;33m\u001b[0m\u001b[1;33m\u001b[0m\u001b[0m\n\u001b[0;32m   1466\u001b[0m     \u001b[1;32mfrom\u001b[0m \u001b[0mmatplotlib\u001b[0m \u001b[1;32mimport\u001b[0m \u001b[0m_png\u001b[0m\u001b[1;33m\u001b[0m\u001b[1;33m\u001b[0m\u001b[0m\n",
      "\u001b[1;32m~\\anaconda3\\lib\\site-packages\\PIL\\Image.py\u001b[0m in \u001b[0;36mopen\u001b[1;34m(fp, mode)\u001b[0m\n\u001b[0;32m   2876\u001b[0m \u001b[1;33m\u001b[0m\u001b[0m\n\u001b[0;32m   2877\u001b[0m     \u001b[1;32mif\u001b[0m \u001b[0mfilename\u001b[0m\u001b[1;33m:\u001b[0m\u001b[1;33m\u001b[0m\u001b[1;33m\u001b[0m\u001b[0m\n\u001b[1;32m-> 2878\u001b[1;33m         \u001b[0mfp\u001b[0m \u001b[1;33m=\u001b[0m \u001b[0mbuiltins\u001b[0m\u001b[1;33m.\u001b[0m\u001b[0mopen\u001b[0m\u001b[1;33m(\u001b[0m\u001b[0mfilename\u001b[0m\u001b[1;33m,\u001b[0m \u001b[1;34m\"rb\"\u001b[0m\u001b[1;33m)\u001b[0m\u001b[1;33m\u001b[0m\u001b[1;33m\u001b[0m\u001b[0m\n\u001b[0m\u001b[0;32m   2879\u001b[0m         \u001b[0mexclusive_fp\u001b[0m \u001b[1;33m=\u001b[0m \u001b[1;32mTrue\u001b[0m\u001b[1;33m\u001b[0m\u001b[1;33m\u001b[0m\u001b[0m\n\u001b[0;32m   2880\u001b[0m \u001b[1;33m\u001b[0m\u001b[0m\n",
      "\u001b[1;31mFileNotFoundError\u001b[0m: [Errno 2] No such file or directory: 'train_features/ZJ006000.jpg'"
     ]
    },
    {
     "data": {
      "image/png": "[encoded data removed]",
      "text/plain": [
       "<Figure size 1440x1440 with 8 Axes>"
      ]
     },
     "metadata": {
      "needs_background": "light"
     },
     "output_type": "display_data"
    }
   ],
   "source": [
    "import matplotlib.image as mpimg\n",
    "\n",
    "train_image_path = folder_prefix + \"train_features/\"\n",
    "test_image_path = folder_prefix + \"test_features/\"\n",
    "\n",
    "train_features_filelist = os.listdir(train_image_path)\n",
    "filepath = train_image_path + filename\n",
    "\n",
    "random_state = 42\n",
    "\n",
    "# Create a grid with 8 positions, one for each label (7 species, plus blanks)\n",
    "fig, axes = plt.subplots(nrows=4, ncols=2, figsize=(20, 20))\n",
    "\n",
    "# Iterate through each species\n",
    "for species, ax in zip(species_labels, axes.flat):\n",
    "    # Image ID for this species\n",
    "    img_id = (\n",
    "        train_labels[train_labels.loc[:,species] == 1]\n",
    "        .sample(1, random_state=random_state)\n",
    "        .index[0]\n",
    "    )\n",
    "    # Read the filepath and return a numpy array\n",
    "    img = mpimg.imread(train_features.loc[img_id].filepath)\n",
    "    # Plotting \n",
    "    ax.imshow(img)\n",
    "    ax.set_title(f\"{img_id} | {species}\")"
   ]
  },
  {
   "cell_type": "markdown",
   "metadata": {
    "id": "10DZXwhCdzfH"
   },
   "source": [
    "Explore the distribution of species across the training set."
   ]
  },
  {
   "cell_type": "code",
   "execution_count": 11,
   "metadata": {
    "colab": {
     "base_uri": "https://localhost:8080/"
    },
    "id": "-l_LHRdidrLW",
    "outputId": "57ee6302-bca0-43d5-fb64-e2e82da5bf7a"
   },
   "outputs": [
    {
     "data": {
      "text/plain": [
       "monkey_prosimian    2492.0\n",
       "antelope_duiker     2474.0\n",
       "civet_genet         2423.0\n",
       "leopard             2254.0\n",
       "blank               2213.0\n",
       "rodent              2013.0\n",
       "bird                1641.0\n",
       "hog                  978.0\n",
       "dtype: float64"
      ]
     },
     "execution_count": 11,
     "metadata": {},
     "output_type": "execute_result"
    }
   ],
   "source": [
    "# Counts of species in training set\n",
    "train_labels.sum().sort_values(ascending=False)"
   ]
  },
  {
   "cell_type": "code",
   "execution_count": 12,
   "metadata": {
    "colab": {
     "base_uri": "https://localhost:8080/"
    },
    "id": "622w9XVQeCet",
    "outputId": "09813561-0ac3-41c0-81d4-96d3d33841c4"
   },
   "outputs": [
    {
     "data": {
      "text/plain": [
       "monkey_prosimian    0.151140\n",
       "antelope_duiker     0.150049\n",
       "civet_genet         0.146955\n",
       "leopard             0.136705\n",
       "blank               0.134219\n",
       "rodent              0.122089\n",
       "bird                0.099527\n",
       "hog                 0.059316\n",
       "dtype: float64"
      ]
     },
     "execution_count": 12,
     "metadata": {},
     "output_type": "execute_result"
    }
   ],
   "source": [
    "# Percentage of species in training set\n",
    "train_labels.sum().divide(train_labels.shape[0]).sort_values(ascending=False)"
   ]
  },
  {
   "cell_type": "markdown",
   "metadata": {
    "id": "WgP_2XiXfklO"
   },
   "source": [
    "## 3. Split into Test and Evaluation Set"
   ]
  },
  {
   "cell_type": "markdown",
   "metadata": {
    "id": "9FG8pipCfpBA"
   },
   "source": [
    "First, we will split the images into train and evaluation data sets. \n",
    "For the Evaluation dataset 25% of the data will be put aside. Also we stratify by the target labels to ensure we have similar relative frequencies of each class in the train and eval sets."
   ]
  },
  {
   "cell_type": "code",
   "execution_count": 13,
   "metadata": {
    "colab": {
     "base_uri": "https://localhost:8080/"
    },
    "id": "Jq-Ua9MUultf",
    "outputId": "1b6f75cb-896e-432c-db81-34cb0e51604c"
   },
   "outputs": [
    {
     "name": "stdout",
     "output_type": "stream",
     "text": [
      "C:\\Users\\ebele\\Desktop\\CAS Uni Bern\\_Final Project Work\\Original Data Sets\n",
      "['C:\\\\Users\\\\ebele\\\\Desktop\\\\CAS Uni Bern\\\\_Final Project Work\\\\Original Data Sets\\\\test_features', 'C:\\\\Users\\\\ebele\\\\Desktop\\\\CAS Uni Bern\\\\_Final Project Work\\\\Original Data Sets\\\\test_features.csv', 'C:\\\\Users\\\\ebele\\\\Desktop\\\\CAS Uni Bern\\\\_Final Project Work\\\\Original Data Sets\\\\train_features', 'C:\\\\Users\\\\ebele\\\\Desktop\\\\CAS Uni Bern\\\\_Final Project Work\\\\Original Data Sets\\\\train_features.csv', 'C:\\\\Users\\\\ebele\\\\Desktop\\\\CAS Uni Bern\\\\_Final Project Work\\\\Original Data Sets\\\\train_labels.csv']\n",
      "<bound method NDFrame.head of                                             filepath\n",
      "0  C:\\Users\\ebele\\Desktop\\CAS Uni Bern\\_Final Pro...\n",
      "1  C:\\Users\\ebele\\Desktop\\CAS Uni Bern\\_Final Pro...\n",
      "2  C:\\Users\\ebele\\Desktop\\CAS Uni Bern\\_Final Pro...\n",
      "3  C:\\Users\\ebele\\Desktop\\CAS Uni Bern\\_Final Pro...\n",
      "4  C:\\Users\\ebele\\Desktop\\CAS Uni Bern\\_Final Pro...>\n"
     ]
    }
   ],
   "source": [
    "import os\n",
    "\n",
    "image_dir = data_dir\n",
    "print(image_dir)\n",
    "image_paths = [os.path.join(image_dir, filename) for filename in os.listdir(image_dir)]\n",
    "\n",
    "print(image_paths)\n",
    "\n",
    "# Load the data frame in a 2D array\n",
    "dataframe = pd.DataFrame({\"filepath\": image_paths})\n",
    "print(dataframe.head)"
   ]
  },
  {
   "cell_type": "code",
   "execution_count": 14,
   "metadata": {
    "id": "x6dV_afzZ7k5"
   },
   "outputs": [],
   "source": [
    "from sklearn.model_selection import train_test_split\n",
    "\n",
    "frac = 1.0\n",
    "\n",
    "y = train_labels.sample(frac=frac, random_state=1)\n",
    "#print(y.head)\n",
    "x = train_features.loc[y.index].filepath.to_frame()\n",
    "#print(x.head)\n",
    "\n",
    "# note that we are casting the species labels to an indicator/dummy matrix\n",
    "x_train, x_eval, y_train, y_eval = train_test_split(\n",
    "    x, y, stratify=y, test_size=0.25    # Stratify data    # 25% Split\n",
    ")\n",
    "\n",
    "x_train['filepath'] = folder_prefix_no_escape + x_train['filepath'].astype(\"str\")"
   ]
  },
  {
   "cell_type": "markdown",
   "metadata": {
    "id": "OGokdqa9d3PG"
   },
   "source": [
    "We split the data into training and evaluation sets using train_test_split function. With the stratify parameter we want to ensure that the class distribution is maintained in the split datasets. "
   ]
  },
  {
   "cell_type": "code",
   "execution_count": 15,
   "metadata": {
    "colab": {
     "base_uri": "https://localhost:8080/",
     "height": 237
    },
    "id": "an8UaB3caivu",
    "outputId": "2f7437ee-c8f4-482f-b520-071988940b5a"
   },
   "outputs": [
    {
     "data": {
      "text/html": [
       "<div>\n",
       "<style scoped>\n",
       "    .dataframe tbody tr th:only-of-type {\n",
       "        vertical-align: middle;\n",
       "    }\n",
       "\n",
       "    .dataframe tbody tr th {\n",
       "        vertical-align: top;\n",
       "    }\n",
       "\n",
       "    .dataframe thead th {\n",
       "        text-align: right;\n",
       "    }\n",
       "</style>\n",
       "<table border=\"1\" class=\"dataframe\">\n",
       "  <thead>\n",
       "    <tr style=\"text-align: right;\">\n",
       "      <th></th>\n",
       "      <th>filepath</th>\n",
       "    </tr>\n",
       "    <tr>\n",
       "      <th>id</th>\n",
       "      <th></th>\n",
       "    </tr>\n",
       "  </thead>\n",
       "  <tbody>\n",
       "    <tr>\n",
       "      <th>ZJ008661</th>\n",
       "      <td>C:/Users/ebele/Desktop/CAS Uni Bern/_Final Pro...</td>\n",
       "    </tr>\n",
       "    <tr>\n",
       "      <th>ZJ011365</th>\n",
       "      <td>C:/Users/ebele/Desktop/CAS Uni Bern/_Final Pro...</td>\n",
       "    </tr>\n",
       "    <tr>\n",
       "      <th>ZJ000363</th>\n",
       "      <td>C:/Users/ebele/Desktop/CAS Uni Bern/_Final Pro...</td>\n",
       "    </tr>\n",
       "    <tr>\n",
       "      <th>ZJ013949</th>\n",
       "      <td>C:/Users/ebele/Desktop/CAS Uni Bern/_Final Pro...</td>\n",
       "    </tr>\n",
       "    <tr>\n",
       "      <th>ZJ006936</th>\n",
       "      <td>C:/Users/ebele/Desktop/CAS Uni Bern/_Final Pro...</td>\n",
       "    </tr>\n",
       "  </tbody>\n",
       "</table>\n",
       "</div>"
      ],
      "text/plain": [
       "                                                   filepath\n",
       "id                                                         \n",
       "ZJ008661  C:/Users/ebele/Desktop/CAS Uni Bern/_Final Pro...\n",
       "ZJ011365  C:/Users/ebele/Desktop/CAS Uni Bern/_Final Pro...\n",
       "ZJ000363  C:/Users/ebele/Desktop/CAS Uni Bern/_Final Pro...\n",
       "ZJ013949  C:/Users/ebele/Desktop/CAS Uni Bern/_Final Pro...\n",
       "ZJ006936  C:/Users/ebele/Desktop/CAS Uni Bern/_Final Pro..."
      ]
     },
     "execution_count": 15,
     "metadata": {},
     "output_type": "execute_result"
    }
   ],
   "source": [
    "x_train.head()"
   ]
  },
  {
   "cell_type": "code",
   "execution_count": 16,
   "metadata": {
    "colab": {
     "base_uri": "https://localhost:8080/",
     "height": 237
    },
    "id": "_rYzeWJTamLp",
    "outputId": "a9d96b64-e5e1-460b-ed30-129706d5b293"
   },
   "outputs": [
    {
     "data": {
      "text/html": [
       "<div>\n",
       "<style scoped>\n",
       "    .dataframe tbody tr th:only-of-type {\n",
       "        vertical-align: middle;\n",
       "    }\n",
       "\n",
       "    .dataframe tbody tr th {\n",
       "        vertical-align: top;\n",
       "    }\n",
       "\n",
       "    .dataframe thead th {\n",
       "        text-align: right;\n",
       "    }\n",
       "</style>\n",
       "<table border=\"1\" class=\"dataframe\">\n",
       "  <thead>\n",
       "    <tr style=\"text-align: right;\">\n",
       "      <th></th>\n",
       "      <th>antelope_duiker</th>\n",
       "      <th>bird</th>\n",
       "      <th>blank</th>\n",
       "      <th>civet_genet</th>\n",
       "      <th>hog</th>\n",
       "      <th>leopard</th>\n",
       "      <th>monkey_prosimian</th>\n",
       "      <th>rodent</th>\n",
       "    </tr>\n",
       "    <tr>\n",
       "      <th>id</th>\n",
       "      <th></th>\n",
       "      <th></th>\n",
       "      <th></th>\n",
       "      <th></th>\n",
       "      <th></th>\n",
       "      <th></th>\n",
       "      <th></th>\n",
       "      <th></th>\n",
       "    </tr>\n",
       "  </thead>\n",
       "  <tbody>\n",
       "    <tr>\n",
       "      <th>ZJ008661</th>\n",
       "      <td>0.0</td>\n",
       "      <td>0.0</td>\n",
       "      <td>0.0</td>\n",
       "      <td>0.0</td>\n",
       "      <td>0.0</td>\n",
       "      <td>0.0</td>\n",
       "      <td>0.0</td>\n",
       "      <td>1.0</td>\n",
       "    </tr>\n",
       "    <tr>\n",
       "      <th>ZJ011365</th>\n",
       "      <td>1.0</td>\n",
       "      <td>0.0</td>\n",
       "      <td>0.0</td>\n",
       "      <td>0.0</td>\n",
       "      <td>0.0</td>\n",
       "      <td>0.0</td>\n",
       "      <td>0.0</td>\n",
       "      <td>0.0</td>\n",
       "    </tr>\n",
       "    <tr>\n",
       "      <th>ZJ000363</th>\n",
       "      <td>0.0</td>\n",
       "      <td>0.0</td>\n",
       "      <td>1.0</td>\n",
       "      <td>0.0</td>\n",
       "      <td>0.0</td>\n",
       "      <td>0.0</td>\n",
       "      <td>0.0</td>\n",
       "      <td>0.0</td>\n",
       "    </tr>\n",
       "    <tr>\n",
       "      <th>ZJ013949</th>\n",
       "      <td>0.0</td>\n",
       "      <td>0.0</td>\n",
       "      <td>0.0</td>\n",
       "      <td>0.0</td>\n",
       "      <td>0.0</td>\n",
       "      <td>0.0</td>\n",
       "      <td>0.0</td>\n",
       "      <td>1.0</td>\n",
       "    </tr>\n",
       "    <tr>\n",
       "      <th>ZJ006936</th>\n",
       "      <td>0.0</td>\n",
       "      <td>0.0</td>\n",
       "      <td>0.0</td>\n",
       "      <td>1.0</td>\n",
       "      <td>0.0</td>\n",
       "      <td>0.0</td>\n",
       "      <td>0.0</td>\n",
       "      <td>0.0</td>\n",
       "    </tr>\n",
       "  </tbody>\n",
       "</table>\n",
       "</div>"
      ],
      "text/plain": [
       "          antelope_duiker  bird  blank  civet_genet  hog  leopard  \\\n",
       "id                                                                  \n",
       "ZJ008661              0.0   0.0    0.0          0.0  0.0      0.0   \n",
       "ZJ011365              1.0   0.0    0.0          0.0  0.0      0.0   \n",
       "ZJ000363              0.0   0.0    1.0          0.0  0.0      0.0   \n",
       "ZJ013949              0.0   0.0    0.0          0.0  0.0      0.0   \n",
       "ZJ006936              0.0   0.0    0.0          1.0  0.0      0.0   \n",
       "\n",
       "          monkey_prosimian  rodent  \n",
       "id                                  \n",
       "ZJ008661               0.0     1.0  \n",
       "ZJ011365               0.0     0.0  \n",
       "ZJ000363               0.0     0.0  \n",
       "ZJ013949               0.0     1.0  \n",
       "ZJ006936               0.0     0.0  "
      ]
     },
     "execution_count": 16,
     "metadata": {},
     "output_type": "execute_result"
    }
   ],
   "source": [
    "y_train.head()"
   ]
  },
  {
   "cell_type": "code",
   "execution_count": 17,
   "metadata": {
    "colab": {
     "base_uri": "https://localhost:8080/"
    },
    "id": "nrF0Q0dbapeT",
    "outputId": "7223cb97-d823-42f3-ea7e-112f09a743c2"
   },
   "outputs": [
    {
     "data": {
      "text/plain": [
       "((12366, 1), (12366, 8), (4122, 1), (4122, 8))"
      ]
     },
     "execution_count": 17,
     "metadata": {},
     "output_type": "execute_result"
    }
   ],
   "source": [
    "x_train.shape, y_train.shape, x_eval.shape, y_eval.shape"
   ]
  },
  {
   "cell_type": "code",
   "execution_count": 18,
   "metadata": {
    "colab": {
     "base_uri": "https://localhost:8080/",
     "height": 319
    },
    "id": "Be1fjoEwas7Q",
    "outputId": "eb5088fc-6853-4590-dc54-0527a1ba241e"
   },
   "outputs": [
    {
     "name": "stdout",
     "output_type": "stream",
     "text": [
      "Species percentages by split\n"
     ]
    },
    {
     "data": {
      "text/html": [
       "<div>\n",
       "<style scoped>\n",
       "    .dataframe tbody tr th:only-of-type {\n",
       "        vertical-align: middle;\n",
       "    }\n",
       "\n",
       "    .dataframe tbody tr th {\n",
       "        vertical-align: top;\n",
       "    }\n",
       "\n",
       "    .dataframe thead th {\n",
       "        text-align: right;\n",
       "    }\n",
       "</style>\n",
       "<table border=\"1\" class=\"dataframe\">\n",
       "  <thead>\n",
       "    <tr style=\"text-align: right;\">\n",
       "      <th></th>\n",
       "      <th>train</th>\n",
       "      <th>eval</th>\n",
       "    </tr>\n",
       "  </thead>\n",
       "  <tbody>\n",
       "    <tr>\n",
       "      <th>monkey_prosimian</th>\n",
       "      <td>15</td>\n",
       "      <td>15</td>\n",
       "    </tr>\n",
       "    <tr>\n",
       "      <th>antelope_duiker</th>\n",
       "      <td>15</td>\n",
       "      <td>15</td>\n",
       "    </tr>\n",
       "    <tr>\n",
       "      <th>civet_genet</th>\n",
       "      <td>14</td>\n",
       "      <td>14</td>\n",
       "    </tr>\n",
       "    <tr>\n",
       "      <th>leopard</th>\n",
       "      <td>13</td>\n",
       "      <td>13</td>\n",
       "    </tr>\n",
       "    <tr>\n",
       "      <th>blank</th>\n",
       "      <td>13</td>\n",
       "      <td>13</td>\n",
       "    </tr>\n",
       "    <tr>\n",
       "      <th>rodent</th>\n",
       "      <td>12</td>\n",
       "      <td>12</td>\n",
       "    </tr>\n",
       "    <tr>\n",
       "      <th>bird</th>\n",
       "      <td>9</td>\n",
       "      <td>9</td>\n",
       "    </tr>\n",
       "    <tr>\n",
       "      <th>hog</th>\n",
       "      <td>5</td>\n",
       "      <td>5</td>\n",
       "    </tr>\n",
       "  </tbody>\n",
       "</table>\n",
       "</div>"
      ],
      "text/plain": [
       "                  train  eval\n",
       "monkey_prosimian     15    15\n",
       "antelope_duiker      15    15\n",
       "civet_genet          14    14\n",
       "leopard              13    13\n",
       "blank                13    13\n",
       "rodent               12    12\n",
       "bird                  9     9\n",
       "hog                   5     5"
      ]
     },
     "execution_count": 18,
     "metadata": {},
     "output_type": "execute_result"
    }
   ],
   "source": [
    "split_pcts = pd.DataFrame(\n",
    "    {\n",
    "        \"train\": y_train.idxmax(axis=1).value_counts(normalize=True), # ID max to find the most common label for each row, also normalize\n",
    "        \"eval\": y_eval.idxmax(axis=1).value_counts(normalize=True),\n",
    "    }\n",
    ")\n",
    "print(\"Species percentages by split\")\n",
    "(split_pcts.fillna(0) * 100).astype(int)"
   ]
  },
  {
   "cell_type": "code",
   "execution_count": 19,
   "metadata": {
    "id": "zxV8wXEmBfTI"
   },
   "outputs": [],
   "source": [
    "train_image_path = folder_prefix + \"train_features/\"\n",
    "test_image_path = folder_prefix + \"test_features/\"\n",
    "\n",
    "train_image_paths = [] # Store image paths in list\n",
    "classes = [] # Store class values"
   ]
  },
  {
   "cell_type": "code",
   "execution_count": 20,
   "metadata": {
    "id": "2w6fB4cKHwne"
   },
   "outputs": [],
   "source": [
    "import torch\n",
    "import torchvision\n",
    "from torch.utils.data import Dataset\n",
    "from torchvision import transforms\n",
    "\n",
    "# Cretae imagedataset class to define how to acess data and define trasnformations\n",
    "\n",
    "class ImagesDataset(Dataset):\n",
    "    \"\"\"Reads in an image, transforms pixel values, and serves\n",
    "    a dictionary containing the image id, image tensors, and label.\n",
    "    \"\"\"\n",
    "\n",
    "    # (1) 2 Dataframes with image IDs and filepaths and apply transformations\n",
    "    def __init__(self, x_df, y_df=None):\n",
    "        self.data = x_df\n",
    "        self.label = y_df\n",
    "        self.transform = transforms.Compose(\n",
    "            [\n",
    "                transforms.Resize((224, 224)), # Resize images to size 224x224\n",
    "                transforms.ToTensor(), # Convert image to tensor\n",
    "                transforms.Normalize( # Normalize  image tensors with mean and standard deviation\n",
    "                    mean=(0.485, 0.456, 0.406), std=(0.229, 0.224, 0.225)\n",
    "                ),\n",
    "            ]\n",
    "        )\n",
    "\n",
    "    # Access a sample from the data\n",
    "    def __getitem__(self, index):\n",
    "        image = Image.open(self.data.iloc[index][\"filepath\"]).convert(\"RGB\")\n",
    "        image = self.transform(image) # Apply transformations\n",
    "        image_id = self.data.index[index]\n",
    "        # if we don't have labels (e.g. for test set) just return the image and image id\n",
    "        if self.label is None:\n",
    "            sample = {\"image_id\": image_id, \"image\": image}\n",
    "        else:\n",
    "            label = torch.tensor(self.label.iloc[index].values, \n",
    "                                 dtype=torch.float)\n",
    "            sample = {\"image_id\": image_id, \"image\": image, \"label\": label}\n",
    "        return sample\n",
    "\n",
    "    def __len__(self):\n",
    "        return len(self.data)"
   ]
  },
  {
   "cell_type": "code",
   "execution_count": 21,
   "metadata": {
    "id": "1oRkFv7Ca6Z6"
   },
   "outputs": [],
   "source": [
    "from torch.utils.data import DataLoader\n",
    "\n",
    "train_dataset = ImagesDataset(x_train, y_train)\n",
    "train_dataloader = DataLoader(train_dataset, batch_size=32)"
   ]
  },
  {
   "cell_type": "markdown",
   "metadata": {},
   "source": [
    "## 4. Model 1 "
   ]
  },
  {
   "cell_type": "markdown",
   "metadata": {},
   "source": [
    "### 4.1 Training of Model 1"
   ]
  },
  {
   "cell_type": "code",
   "execution_count": 22,
   "metadata": {
    "colab": {
     "base_uri": "https://localhost:8080/"
    },
    "id": "Be5ohdKDa9wK",
    "outputId": "357fdfd2-4cb4-4030-e5e5-ff78be433cfb"
   },
   "outputs": [
    {
     "name": "stderr",
     "output_type": "stream",
     "text": [
      "C:\\Users\\ebele\\anaconda3\\lib\\site-packages\\torchvision\\models\\_utils.py:208: UserWarning: The parameter 'pretrained' is deprecated since 0.13 and may be removed in the future, please use 'weights' instead.\n",
      "  warnings.warn(\n",
      "C:\\Users\\ebele\\anaconda3\\lib\\site-packages\\torchvision\\models\\_utils.py:223: UserWarning: Arguments other than a weight enum or `None` for 'weights' are deprecated since 0.13 and may be removed in the future. The current behavior is equivalent to passing `weights=ResNet50_Weights.IMAGENET1K_V1`. You can also use `weights=ResNet50_Weights.DEFAULT` to get the most up-to-date weights.\n",
      "  warnings.warn(msg)\n"
     ]
    }
   ],
   "source": [
    "from torch import nn\n",
    "import torchvision.models as models\n",
    "\n",
    "\n",
    "model = models.resnet50(pretrained=True)\n",
    "model.fc = nn.Sequential(\n",
    "    nn.Linear(2048, 100),  # dense layer takes a 2048-dim input and outputs 100-dim\n",
    "    nn.ReLU(inplace=True),  # ReLU activation introduces non-linearity\n",
    "    nn.Dropout(0.1),  # common technique to mitigate overfitting\n",
    "    nn.Linear(\n",
    "        100, 8\n",
    "    ),  # final dense layer outputs 8-dim corresponding to our target classes\n",
    ")"
   ]
  },
  {
   "cell_type": "code",
   "execution_count": 23,
   "metadata": {
    "id": "4NKeCMoCIZS5"
   },
   "outputs": [
    {
     "name": "stdout",
     "output_type": "stream",
     "text": [
      "==========================================================================================\n",
      "Layer (type:depth-idx)                   Output Shape              Param #\n",
      "==========================================================================================\n",
      "├─Conv2d: 1-1                            [-1, 64, 1024, 50]        9,408\n",
      "├─BatchNorm2d: 1-2                       [-1, 64, 1024, 50]        128\n",
      "├─ReLU: 1-3                              [-1, 64, 1024, 50]        --\n",
      "├─MaxPool2d: 1-4                         [-1, 64, 512, 25]         --\n",
      "├─Sequential: 1-5                        [-1, 256, 512, 25]        --\n",
      "|    └─Bottleneck: 2-1                   [-1, 256, 512, 25]        --\n",
      "|    |    └─Conv2d: 3-1                  [-1, 64, 512, 25]         4,096\n",
      "|    |    └─BatchNorm2d: 3-2             [-1, 64, 512, 25]         128\n",
      "|    |    └─ReLU: 3-3                    [-1, 64, 512, 25]         --\n",
      "|    |    └─Conv2d: 3-4                  [-1, 64, 512, 25]         36,864\n",
      "|    |    └─BatchNorm2d: 3-5             [-1, 64, 512, 25]         128\n",
      "|    |    └─ReLU: 3-6                    [-1, 64, 512, 25]         --\n",
      "|    |    └─Conv2d: 3-7                  [-1, 256, 512, 25]        16,384\n",
      "|    |    └─BatchNorm2d: 3-8             [-1, 256, 512, 25]        512\n",
      "|    |    └─Sequential: 3-9              [-1, 256, 512, 25]        16,896\n",
      "|    |    └─ReLU: 3-10                   [-1, 256, 512, 25]        --\n",
      "|    └─Bottleneck: 2-2                   [-1, 256, 512, 25]        --\n",
      "|    |    └─Conv2d: 3-11                 [-1, 64, 512, 25]         16,384\n",
      "|    |    └─BatchNorm2d: 3-12            [-1, 64, 512, 25]         128\n",
      "|    |    └─ReLU: 3-13                   [-1, 64, 512, 25]         --\n",
      "|    |    └─Conv2d: 3-14                 [-1, 64, 512, 25]         36,864\n",
      "|    |    └─BatchNorm2d: 3-15            [-1, 64, 512, 25]         128\n",
      "|    |    └─ReLU: 3-16                   [-1, 64, 512, 25]         --\n",
      "|    |    └─Conv2d: 3-17                 [-1, 256, 512, 25]        16,384\n",
      "|    |    └─BatchNorm2d: 3-18            [-1, 256, 512, 25]        512\n",
      "|    |    └─ReLU: 3-19                   [-1, 256, 512, 25]        --\n",
      "|    └─Bottleneck: 2-3                   [-1, 256, 512, 25]        --\n",
      "|    |    └─Conv2d: 3-20                 [-1, 64, 512, 25]         16,384\n",
      "|    |    └─BatchNorm2d: 3-21            [-1, 64, 512, 25]         128\n",
      "|    |    └─ReLU: 3-22                   [-1, 64, 512, 25]         --\n",
      "|    |    └─Conv2d: 3-23                 [-1, 64, 512, 25]         36,864\n",
      "|    |    └─BatchNorm2d: 3-24            [-1, 64, 512, 25]         128\n",
      "|    |    └─ReLU: 3-25                   [-1, 64, 512, 25]         --\n",
      "|    |    └─Conv2d: 3-26                 [-1, 256, 512, 25]        16,384\n",
      "|    |    └─BatchNorm2d: 3-27            [-1, 256, 512, 25]        512\n",
      "|    |    └─ReLU: 3-28                   [-1, 256, 512, 25]        --\n",
      "├─Sequential: 1-6                        [-1, 512, 256, 13]        --\n",
      "|    └─Bottleneck: 2-4                   [-1, 512, 256, 13]        --\n",
      "|    |    └─Conv2d: 3-29                 [-1, 128, 512, 25]        32,768\n",
      "|    |    └─BatchNorm2d: 3-30            [-1, 128, 512, 25]        256\n",
      "|    |    └─ReLU: 3-31                   [-1, 128, 512, 25]        --\n",
      "|    |    └─Conv2d: 3-32                 [-1, 128, 256, 13]        147,456\n",
      "|    |    └─BatchNorm2d: 3-33            [-1, 128, 256, 13]        256\n",
      "|    |    └─ReLU: 3-34                   [-1, 128, 256, 13]        --\n",
      "|    |    └─Conv2d: 3-35                 [-1, 512, 256, 13]        65,536\n",
      "|    |    └─BatchNorm2d: 3-36            [-1, 512, 256, 13]        1,024\n",
      "|    |    └─Sequential: 3-37             [-1, 512, 256, 13]        132,096\n",
      "|    |    └─ReLU: 3-38                   [-1, 512, 256, 13]        --\n",
      "|    └─Bottleneck: 2-5                   [-1, 512, 256, 13]        --\n",
      "|    |    └─Conv2d: 3-39                 [-1, 128, 256, 13]        65,536\n",
      "|    |    └─BatchNorm2d: 3-40            [-1, 128, 256, 13]        256\n",
      "|    |    └─ReLU: 3-41                   [-1, 128, 256, 13]        --\n",
      "|    |    └─Conv2d: 3-42                 [-1, 128, 256, 13]        147,456\n",
      "|    |    └─BatchNorm2d: 3-43            [-1, 128, 256, 13]        256\n",
      "|    |    └─ReLU: 3-44                   [-1, 128, 256, 13]        --\n",
      "|    |    └─Conv2d: 3-45                 [-1, 512, 256, 13]        65,536\n",
      "|    |    └─BatchNorm2d: 3-46            [-1, 512, 256, 13]        1,024\n",
      "|    |    └─ReLU: 3-47                   [-1, 512, 256, 13]        --\n",
      "|    └─Bottleneck: 2-6                   [-1, 512, 256, 13]        --\n",
      "|    |    └─Conv2d: 3-48                 [-1, 128, 256, 13]        65,536\n",
      "|    |    └─BatchNorm2d: 3-49            [-1, 128, 256, 13]        256\n",
      "|    |    └─ReLU: 3-50                   [-1, 128, 256, 13]        --\n",
      "|    |    └─Conv2d: 3-51                 [-1, 128, 256, 13]        147,456\n",
      "|    |    └─BatchNorm2d: 3-52            [-1, 128, 256, 13]        256\n",
      "|    |    └─ReLU: 3-53                   [-1, 128, 256, 13]        --\n",
      "|    |    └─Conv2d: 3-54                 [-1, 512, 256, 13]        65,536\n",
      "|    |    └─BatchNorm2d: 3-55            [-1, 512, 256, 13]        1,024\n",
      "|    |    └─ReLU: 3-56                   [-1, 512, 256, 13]        --\n",
      "|    └─Bottleneck: 2-7                   [-1, 512, 256, 13]        --\n",
      "|    |    └─Conv2d: 3-57                 [-1, 128, 256, 13]        65,536\n",
      "|    |    └─BatchNorm2d: 3-58            [-1, 128, 256, 13]        256\n",
      "|    |    └─ReLU: 3-59                   [-1, 128, 256, 13]        --\n",
      "|    |    └─Conv2d: 3-60                 [-1, 128, 256, 13]        147,456\n",
      "|    |    └─BatchNorm2d: 3-61            [-1, 128, 256, 13]        256\n",
      "|    |    └─ReLU: 3-62                   [-1, 128, 256, 13]        --\n",
      "|    |    └─Conv2d: 3-63                 [-1, 512, 256, 13]        65,536\n",
      "|    |    └─BatchNorm2d: 3-64            [-1, 512, 256, 13]        1,024\n",
      "|    |    └─ReLU: 3-65                   [-1, 512, 256, 13]        --\n",
      "├─Sequential: 1-7                        [-1, 1024, 128, 7]        --\n",
      "|    └─Bottleneck: 2-8                   [-1, 1024, 128, 7]        --\n",
      "|    |    └─Conv2d: 3-66                 [-1, 256, 256, 13]        131,072\n",
      "|    |    └─BatchNorm2d: 3-67            [-1, 256, 256, 13]        512\n",
      "|    |    └─ReLU: 3-68                   [-1, 256, 256, 13]        --\n",
      "|    |    └─Conv2d: 3-69                 [-1, 256, 128, 7]         589,824\n",
      "|    |    └─BatchNorm2d: 3-70            [-1, 256, 128, 7]         512\n",
      "|    |    └─ReLU: 3-71                   [-1, 256, 128, 7]         --\n",
      "|    |    └─Conv2d: 3-72                 [-1, 1024, 128, 7]        262,144\n",
      "|    |    └─BatchNorm2d: 3-73            [-1, 1024, 128, 7]        2,048\n",
      "|    |    └─Sequential: 3-74             [-1, 1024, 128, 7]        526,336\n",
      "|    |    └─ReLU: 3-75                   [-1, 1024, 128, 7]        --\n",
      "|    └─Bottleneck: 2-9                   [-1, 1024, 128, 7]        --\n",
      "|    |    └─Conv2d: 3-76                 [-1, 256, 128, 7]         262,144\n",
      "|    |    └─BatchNorm2d: 3-77            [-1, 256, 128, 7]         512\n",
      "|    |    └─ReLU: 3-78                   [-1, 256, 128, 7]         --\n",
      "|    |    └─Conv2d: 3-79                 [-1, 256, 128, 7]         589,824\n",
      "|    |    └─BatchNorm2d: 3-80            [-1, 256, 128, 7]         512\n",
      "|    |    └─ReLU: 3-81                   [-1, 256, 128, 7]         --\n",
      "|    |    └─Conv2d: 3-82                 [-1, 1024, 128, 7]        262,144\n",
      "|    |    └─BatchNorm2d: 3-83            [-1, 1024, 128, 7]        2,048\n",
      "|    |    └─ReLU: 3-84                   [-1, 1024, 128, 7]        --\n",
      "|    └─Bottleneck: 2-10                  [-1, 1024, 128, 7]        --\n",
      "|    |    └─Conv2d: 3-85                 [-1, 256, 128, 7]         262,144\n",
      "|    |    └─BatchNorm2d: 3-86            [-1, 256, 128, 7]         512\n",
      "|    |    └─ReLU: 3-87                   [-1, 256, 128, 7]         --\n",
      "|    |    └─Conv2d: 3-88                 [-1, 256, 128, 7]         589,824\n",
      "|    |    └─BatchNorm2d: 3-89            [-1, 256, 128, 7]         512\n",
      "|    |    └─ReLU: 3-90                   [-1, 256, 128, 7]         --\n",
      "|    |    └─Conv2d: 3-91                 [-1, 1024, 128, 7]        262,144\n",
      "|    |    └─BatchNorm2d: 3-92            [-1, 1024, 128, 7]        2,048\n",
      "|    |    └─ReLU: 3-93                   [-1, 1024, 128, 7]        --\n",
      "|    └─Bottleneck: 2-11                  [-1, 1024, 128, 7]        --\n",
      "|    |    └─Conv2d: 3-94                 [-1, 256, 128, 7]         262,144\n",
      "|    |    └─BatchNorm2d: 3-95            [-1, 256, 128, 7]         512\n",
      "|    |    └─ReLU: 3-96                   [-1, 256, 128, 7]         --\n",
      "|    |    └─Conv2d: 3-97                 [-1, 256, 128, 7]         589,824\n",
      "|    |    └─BatchNorm2d: 3-98            [-1, 256, 128, 7]         512\n",
      "|    |    └─ReLU: 3-99                   [-1, 256, 128, 7]         --\n",
      "|    |    └─Conv2d: 3-100                [-1, 1024, 128, 7]        262,144\n",
      "|    |    └─BatchNorm2d: 3-101           [-1, 1024, 128, 7]        2,048\n",
      "|    |    └─ReLU: 3-102                  [-1, 1024, 128, 7]        --\n",
      "|    └─Bottleneck: 2-12                  [-1, 1024, 128, 7]        --\n",
      "|    |    └─Conv2d: 3-103                [-1, 256, 128, 7]         262,144\n",
      "|    |    └─BatchNorm2d: 3-104           [-1, 256, 128, 7]         512\n",
      "|    |    └─ReLU: 3-105                  [-1, 256, 128, 7]         --\n",
      "|    |    └─Conv2d: 3-106                [-1, 256, 128, 7]         589,824\n",
      "|    |    └─BatchNorm2d: 3-107           [-1, 256, 128, 7]         512\n",
      "|    |    └─ReLU: 3-108                  [-1, 256, 128, 7]         --\n",
      "|    |    └─Conv2d: 3-109                [-1, 1024, 128, 7]        262,144\n",
      "|    |    └─BatchNorm2d: 3-110           [-1, 1024, 128, 7]        2,048\n",
      "|    |    └─ReLU: 3-111                  [-1, 1024, 128, 7]        --\n",
      "|    └─Bottleneck: 2-13                  [-1, 1024, 128, 7]        --\n",
      "|    |    └─Conv2d: 3-112                [-1, 256, 128, 7]         262,144\n",
      "|    |    └─BatchNorm2d: 3-113           [-1, 256, 128, 7]         512\n",
      "|    |    └─ReLU: 3-114                  [-1, 256, 128, 7]         --\n",
      "|    |    └─Conv2d: 3-115                [-1, 256, 128, 7]         589,824\n",
      "|    |    └─BatchNorm2d: 3-116           [-1, 256, 128, 7]         512\n",
      "|    |    └─ReLU: 3-117                  [-1, 256, 128, 7]         --\n",
      "|    |    └─Conv2d: 3-118                [-1, 1024, 128, 7]        262,144\n",
      "|    |    └─BatchNorm2d: 3-119           [-1, 1024, 128, 7]        2,048\n",
      "|    |    └─ReLU: 3-120                  [-1, 1024, 128, 7]        --\n",
      "├─Sequential: 1-8                        [-1, 2048, 64, 4]         --\n",
      "|    └─Bottleneck: 2-14                  [-1, 2048, 64, 4]         --\n",
      "|    |    └─Conv2d: 3-121                [-1, 512, 128, 7]         524,288\n",
      "|    |    └─BatchNorm2d: 3-122           [-1, 512, 128, 7]         1,024\n",
      "|    |    └─ReLU: 3-123                  [-1, 512, 128, 7]         --\n",
      "|    |    └─Conv2d: 3-124                [-1, 512, 64, 4]          2,359,296\n",
      "|    |    └─BatchNorm2d: 3-125           [-1, 512, 64, 4]          1,024\n",
      "|    |    └─ReLU: 3-126                  [-1, 512, 64, 4]          --\n",
      "|    |    └─Conv2d: 3-127                [-1, 2048, 64, 4]         1,048,576\n",
      "|    |    └─BatchNorm2d: 3-128           [-1, 2048, 64, 4]         4,096\n",
      "|    |    └─Sequential: 3-129            [-1, 2048, 64, 4]         2,101,248\n",
      "|    |    └─ReLU: 3-130                  [-1, 2048, 64, 4]         --\n",
      "|    └─Bottleneck: 2-15                  [-1, 2048, 64, 4]         --\n",
      "|    |    └─Conv2d: 3-131                [-1, 512, 64, 4]          1,048,576\n",
      "|    |    └─BatchNorm2d: 3-132           [-1, 512, 64, 4]          1,024\n",
      "|    |    └─ReLU: 3-133                  [-1, 512, 64, 4]          --\n",
      "|    |    └─Conv2d: 3-134                [-1, 512, 64, 4]          2,359,296\n",
      "|    |    └─BatchNorm2d: 3-135           [-1, 512, 64, 4]          1,024\n",
      "|    |    └─ReLU: 3-136                  [-1, 512, 64, 4]          --\n",
      "|    |    └─Conv2d: 3-137                [-1, 2048, 64, 4]         1,048,576\n",
      "|    |    └─BatchNorm2d: 3-138           [-1, 2048, 64, 4]         4,096\n",
      "|    |    └─ReLU: 3-139                  [-1, 2048, 64, 4]         --\n",
      "|    └─Bottleneck: 2-16                  [-1, 2048, 64, 4]         --\n",
      "|    |    └─Conv2d: 3-140                [-1, 512, 64, 4]          1,048,576\n",
      "|    |    └─BatchNorm2d: 3-141           [-1, 512, 64, 4]          1,024\n",
      "|    |    └─ReLU: 3-142                  [-1, 512, 64, 4]          --\n",
      "|    |    └─Conv2d: 3-143                [-1, 512, 64, 4]          2,359,296\n",
      "|    |    └─BatchNorm2d: 3-144           [-1, 512, 64, 4]          1,024\n",
      "|    |    └─ReLU: 3-145                  [-1, 512, 64, 4]          --\n",
      "|    |    └─Conv2d: 3-146                [-1, 2048, 64, 4]         1,048,576\n",
      "|    |    └─BatchNorm2d: 3-147           [-1, 2048, 64, 4]         4,096\n",
      "|    |    └─ReLU: 3-148                  [-1, 2048, 64, 4]         --\n",
      "├─AdaptiveAvgPool2d: 1-9                 [-1, 2048, 1, 1]          --\n",
      "├─Sequential: 1-10                       [-1, 8]                   --\n",
      "|    └─Linear: 2-17                      [-1, 100]                 204,900\n",
      "|    └─ReLU: 2-18                        [-1, 100]                 --\n",
      "|    └─Dropout: 2-19                     [-1, 100]                 --\n",
      "|    └─Linear: 2-20                      [-1, 8]                   808\n",
      "==========================================================================================\n",
      "Total params: 23,713,740\n",
      "Trainable params: 23,713,740\n",
      "Non-trainable params: 0\n",
      "Total mult-adds (G): 18.42\n",
      "==========================================================================================\n",
      "Input size (MB): 2.34\n",
      "Forward/backward pass size (MB): 724.00\n",
      "Params size (MB): 90.46\n",
      "Estimated Total Size (MB): 816.81\n",
      "==========================================================================================\n"
     ]
    },
    {
     "data": {
      "text/plain": [
       "==========================================================================================\n",
       "Layer (type:depth-idx)                   Output Shape              Param #\n",
       "==========================================================================================\n",
       "├─Conv2d: 1-1                            [-1, 64, 1024, 50]        9,408\n",
       "├─BatchNorm2d: 1-2                       [-1, 64, 1024, 50]        128\n",
       "├─ReLU: 1-3                              [-1, 64, 1024, 50]        --\n",
       "├─MaxPool2d: 1-4                         [-1, 64, 512, 25]         --\n",
       "├─Sequential: 1-5                        [-1, 256, 512, 25]        --\n",
       "|    └─Bottleneck: 2-1                   [-1, 256, 512, 25]        --\n",
       "|    |    └─Conv2d: 3-1                  [-1, 64, 512, 25]         4,096\n",
       "|    |    └─BatchNorm2d: 3-2             [-1, 64, 512, 25]         128\n",
       "|    |    └─ReLU: 3-3                    [-1, 64, 512, 25]         --\n",
       "|    |    └─Conv2d: 3-4                  [-1, 64, 512, 25]         36,864\n",
       "|    |    └─BatchNorm2d: 3-5             [-1, 64, 512, 25]         128\n",
       "|    |    └─ReLU: 3-6                    [-1, 64, 512, 25]         --\n",
       "|    |    └─Conv2d: 3-7                  [-1, 256, 512, 25]        16,384\n",
       "|    |    └─BatchNorm2d: 3-8             [-1, 256, 512, 25]        512\n",
       "|    |    └─Sequential: 3-9              [-1, 256, 512, 25]        16,896\n",
       "|    |    └─ReLU: 3-10                   [-1, 256, 512, 25]        --\n",
       "|    └─Bottleneck: 2-2                   [-1, 256, 512, 25]        --\n",
       "|    |    └─Conv2d: 3-11                 [-1, 64, 512, 25]         16,384\n",
       "|    |    └─BatchNorm2d: 3-12            [-1, 64, 512, 25]         128\n",
       "|    |    └─ReLU: 3-13                   [-1, 64, 512, 25]         --\n",
       "|    |    └─Conv2d: 3-14                 [-1, 64, 512, 25]         36,864\n",
       "|    |    └─BatchNorm2d: 3-15            [-1, 64, 512, 25]         128\n",
       "|    |    └─ReLU: 3-16                   [-1, 64, 512, 25]         --\n",
       "|    |    └─Conv2d: 3-17                 [-1, 256, 512, 25]        16,384\n",
       "|    |    └─BatchNorm2d: 3-18            [-1, 256, 512, 25]        512\n",
       "|    |    └─ReLU: 3-19                   [-1, 256, 512, 25]        --\n",
       "|    └─Bottleneck: 2-3                   [-1, 256, 512, 25]        --\n",
       "|    |    └─Conv2d: 3-20                 [-1, 64, 512, 25]         16,384\n",
       "|    |    └─BatchNorm2d: 3-21            [-1, 64, 512, 25]         128\n",
       "|    |    └─ReLU: 3-22                   [-1, 64, 512, 25]         --\n",
       "|    |    └─Conv2d: 3-23                 [-1, 64, 512, 25]         36,864\n",
       "|    |    └─BatchNorm2d: 3-24            [-1, 64, 512, 25]         128\n",
       "|    |    └─ReLU: 3-25                   [-1, 64, 512, 25]         --\n",
       "|    |    └─Conv2d: 3-26                 [-1, 256, 512, 25]        16,384\n",
       "|    |    └─BatchNorm2d: 3-27            [-1, 256, 512, 25]        512\n",
       "|    |    └─ReLU: 3-28                   [-1, 256, 512, 25]        --\n",
       "├─Sequential: 1-6                        [-1, 512, 256, 13]        --\n",
       "|    └─Bottleneck: 2-4                   [-1, 512, 256, 13]        --\n",
       "|    |    └─Conv2d: 3-29                 [-1, 128, 512, 25]        32,768\n",
       "|    |    └─BatchNorm2d: 3-30            [-1, 128, 512, 25]        256\n",
       "|    |    └─ReLU: 3-31                   [-1, 128, 512, 25]        --\n",
       "|    |    └─Conv2d: 3-32                 [-1, 128, 256, 13]        147,456\n",
       "|    |    └─BatchNorm2d: 3-33            [-1, 128, 256, 13]        256\n",
       "|    |    └─ReLU: 3-34                   [-1, 128, 256, 13]        --\n",
       "|    |    └─Conv2d: 3-35                 [-1, 512, 256, 13]        65,536\n",
       "|    |    └─BatchNorm2d: 3-36            [-1, 512, 256, 13]        1,024\n",
       "|    |    └─Sequential: 3-37             [-1, 512, 256, 13]        132,096\n",
       "|    |    └─ReLU: 3-38                   [-1, 512, 256, 13]        --\n",
       "|    └─Bottleneck: 2-5                   [-1, 512, 256, 13]        --\n",
       "|    |    └─Conv2d: 3-39                 [-1, 128, 256, 13]        65,536\n",
       "|    |    └─BatchNorm2d: 3-40            [-1, 128, 256, 13]        256\n",
       "|    |    └─ReLU: 3-41                   [-1, 128, 256, 13]        --\n",
       "|    |    └─Conv2d: 3-42                 [-1, 128, 256, 13]        147,456\n",
       "|    |    └─BatchNorm2d: 3-43            [-1, 128, 256, 13]        256\n",
       "|    |    └─ReLU: 3-44                   [-1, 128, 256, 13]        --\n",
       "|    |    └─Conv2d: 3-45                 [-1, 512, 256, 13]        65,536\n",
       "|    |    └─BatchNorm2d: 3-46            [-1, 512, 256, 13]        1,024\n",
       "|    |    └─ReLU: 3-47                   [-1, 512, 256, 13]        --\n",
       "|    └─Bottleneck: 2-6                   [-1, 512, 256, 13]        --\n",
       "|    |    └─Conv2d: 3-48                 [-1, 128, 256, 13]        65,536\n",
       "|    |    └─BatchNorm2d: 3-49            [-1, 128, 256, 13]        256\n",
       "|    |    └─ReLU: 3-50                   [-1, 128, 256, 13]        --\n",
       "|    |    └─Conv2d: 3-51                 [-1, 128, 256, 13]        147,456\n",
       "|    |    └─BatchNorm2d: 3-52            [-1, 128, 256, 13]        256\n",
       "|    |    └─ReLU: 3-53                   [-1, 128, 256, 13]        --\n",
       "|    |    └─Conv2d: 3-54                 [-1, 512, 256, 13]        65,536\n",
       "|    |    └─BatchNorm2d: 3-55            [-1, 512, 256, 13]        1,024\n",
       "|    |    └─ReLU: 3-56                   [-1, 512, 256, 13]        --\n",
       "|    └─Bottleneck: 2-7                   [-1, 512, 256, 13]        --\n",
       "|    |    └─Conv2d: 3-57                 [-1, 128, 256, 13]        65,536\n",
       "|    |    └─BatchNorm2d: 3-58            [-1, 128, 256, 13]        256\n",
       "|    |    └─ReLU: 3-59                   [-1, 128, 256, 13]        --\n",
       "|    |    └─Conv2d: 3-60                 [-1, 128, 256, 13]        147,456\n",
       "|    |    └─BatchNorm2d: 3-61            [-1, 128, 256, 13]        256\n",
       "|    |    └─ReLU: 3-62                   [-1, 128, 256, 13]        --\n",
       "|    |    └─Conv2d: 3-63                 [-1, 512, 256, 13]        65,536\n",
       "|    |    └─BatchNorm2d: 3-64            [-1, 512, 256, 13]        1,024\n",
       "|    |    └─ReLU: 3-65                   [-1, 512, 256, 13]        --\n",
       "├─Sequential: 1-7                        [-1, 1024, 128, 7]        --\n",
       "|    └─Bottleneck: 2-8                   [-1, 1024, 128, 7]        --\n",
       "|    |    └─Conv2d: 3-66                 [-1, 256, 256, 13]        131,072\n",
       "|    |    └─BatchNorm2d: 3-67            [-1, 256, 256, 13]        512\n",
       "|    |    └─ReLU: 3-68                   [-1, 256, 256, 13]        --\n",
       "|    |    └─Conv2d: 3-69                 [-1, 256, 128, 7]         589,824\n",
       "|    |    └─BatchNorm2d: 3-70            [-1, 256, 128, 7]         512\n",
       "|    |    └─ReLU: 3-71                   [-1, 256, 128, 7]         --\n",
       "|    |    └─Conv2d: 3-72                 [-1, 1024, 128, 7]        262,144\n",
       "|    |    └─BatchNorm2d: 3-73            [-1, 1024, 128, 7]        2,048\n",
       "|    |    └─Sequential: 3-74             [-1, 1024, 128, 7]        526,336\n",
       "|    |    └─ReLU: 3-75                   [-1, 1024, 128, 7]        --\n",
       "|    └─Bottleneck: 2-9                   [-1, 1024, 128, 7]        --\n",
       "|    |    └─Conv2d: 3-76                 [-1, 256, 128, 7]         262,144\n",
       "|    |    └─BatchNorm2d: 3-77            [-1, 256, 128, 7]         512\n",
       "|    |    └─ReLU: 3-78                   [-1, 256, 128, 7]         --\n",
       "|    |    └─Conv2d: 3-79                 [-1, 256, 128, 7]         589,824\n",
       "|    |    └─BatchNorm2d: 3-80            [-1, 256, 128, 7]         512\n",
       "|    |    └─ReLU: 3-81                   [-1, 256, 128, 7]         --\n",
       "|    |    └─Conv2d: 3-82                 [-1, 1024, 128, 7]        262,144\n",
       "|    |    └─BatchNorm2d: 3-83            [-1, 1024, 128, 7]        2,048\n",
       "|    |    └─ReLU: 3-84                   [-1, 1024, 128, 7]        --\n",
       "|    └─Bottleneck: 2-10                  [-1, 1024, 128, 7]        --\n",
       "|    |    └─Conv2d: 3-85                 [-1, 256, 128, 7]         262,144\n",
       "|    |    └─BatchNorm2d: 3-86            [-1, 256, 128, 7]         512\n",
       "|    |    └─ReLU: 3-87                   [-1, 256, 128, 7]         --\n",
       "|    |    └─Conv2d: 3-88                 [-1, 256, 128, 7]         589,824\n",
       "|    |    └─BatchNorm2d: 3-89            [-1, 256, 128, 7]         512\n",
       "|    |    └─ReLU: 3-90                   [-1, 256, 128, 7]         --\n",
       "|    |    └─Conv2d: 3-91                 [-1, 1024, 128, 7]        262,144\n",
       "|    |    └─BatchNorm2d: 3-92            [-1, 1024, 128, 7]        2,048\n",
       "|    |    └─ReLU: 3-93                   [-1, 1024, 128, 7]        --\n",
       "|    └─Bottleneck: 2-11                  [-1, 1024, 128, 7]        --\n",
       "|    |    └─Conv2d: 3-94                 [-1, 256, 128, 7]         262,144\n",
       "|    |    └─BatchNorm2d: 3-95            [-1, 256, 128, 7]         512\n",
       "|    |    └─ReLU: 3-96                   [-1, 256, 128, 7]         --\n",
       "|    |    └─Conv2d: 3-97                 [-1, 256, 128, 7]         589,824\n",
       "|    |    └─BatchNorm2d: 3-98            [-1, 256, 128, 7]         512\n",
       "|    |    └─ReLU: 3-99                   [-1, 256, 128, 7]         --\n",
       "|    |    └─Conv2d: 3-100                [-1, 1024, 128, 7]        262,144\n",
       "|    |    └─BatchNorm2d: 3-101           [-1, 1024, 128, 7]        2,048\n",
       "|    |    └─ReLU: 3-102                  [-1, 1024, 128, 7]        --\n",
       "|    └─Bottleneck: 2-12                  [-1, 1024, 128, 7]        --\n",
       "|    |    └─Conv2d: 3-103                [-1, 256, 128, 7]         262,144\n",
       "|    |    └─BatchNorm2d: 3-104           [-1, 256, 128, 7]         512\n",
       "|    |    └─ReLU: 3-105                  [-1, 256, 128, 7]         --\n",
       "|    |    └─Conv2d: 3-106                [-1, 256, 128, 7]         589,824\n",
       "|    |    └─BatchNorm2d: 3-107           [-1, 256, 128, 7]         512\n",
       "|    |    └─ReLU: 3-108                  [-1, 256, 128, 7]         --\n",
       "|    |    └─Conv2d: 3-109                [-1, 1024, 128, 7]        262,144\n",
       "|    |    └─BatchNorm2d: 3-110           [-1, 1024, 128, 7]        2,048\n",
       "|    |    └─ReLU: 3-111                  [-1, 1024, 128, 7]        --\n",
       "|    └─Bottleneck: 2-13                  [-1, 1024, 128, 7]        --\n",
       "|    |    └─Conv2d: 3-112                [-1, 256, 128, 7]         262,144\n",
       "|    |    └─BatchNorm2d: 3-113           [-1, 256, 128, 7]         512\n",
       "|    |    └─ReLU: 3-114                  [-1, 256, 128, 7]         --\n",
       "|    |    └─Conv2d: 3-115                [-1, 256, 128, 7]         589,824\n",
       "|    |    └─BatchNorm2d: 3-116           [-1, 256, 128, 7]         512\n",
       "|    |    └─ReLU: 3-117                  [-1, 256, 128, 7]         --\n",
       "|    |    └─Conv2d: 3-118                [-1, 1024, 128, 7]        262,144\n",
       "|    |    └─BatchNorm2d: 3-119           [-1, 1024, 128, 7]        2,048\n",
       "|    |    └─ReLU: 3-120                  [-1, 1024, 128, 7]        --\n",
       "├─Sequential: 1-8                        [-1, 2048, 64, 4]         --\n",
       "|    └─Bottleneck: 2-14                  [-1, 2048, 64, 4]         --\n",
       "|    |    └─Conv2d: 3-121                [-1, 512, 128, 7]         524,288\n",
       "|    |    └─BatchNorm2d: 3-122           [-1, 512, 128, 7]         1,024\n",
       "|    |    └─ReLU: 3-123                  [-1, 512, 128, 7]         --\n",
       "|    |    └─Conv2d: 3-124                [-1, 512, 64, 4]          2,359,296\n",
       "|    |    └─BatchNorm2d: 3-125           [-1, 512, 64, 4]          1,024\n",
       "|    |    └─ReLU: 3-126                  [-1, 512, 64, 4]          --\n",
       "|    |    └─Conv2d: 3-127                [-1, 2048, 64, 4]         1,048,576\n",
       "|    |    └─BatchNorm2d: 3-128           [-1, 2048, 64, 4]         4,096\n",
       "|    |    └─Sequential: 3-129            [-1, 2048, 64, 4]         2,101,248\n",
       "|    |    └─ReLU: 3-130                  [-1, 2048, 64, 4]         --\n",
       "|    └─Bottleneck: 2-15                  [-1, 2048, 64, 4]         --\n",
       "|    |    └─Conv2d: 3-131                [-1, 512, 64, 4]          1,048,576\n",
       "|    |    └─BatchNorm2d: 3-132           [-1, 512, 64, 4]          1,024\n",
       "|    |    └─ReLU: 3-133                  [-1, 512, 64, 4]          --\n",
       "|    |    └─Conv2d: 3-134                [-1, 512, 64, 4]          2,359,296\n",
       "|    |    └─BatchNorm2d: 3-135           [-1, 512, 64, 4]          1,024\n",
       "|    |    └─ReLU: 3-136                  [-1, 512, 64, 4]          --\n",
       "|    |    └─Conv2d: 3-137                [-1, 2048, 64, 4]         1,048,576\n",
       "|    |    └─BatchNorm2d: 3-138           [-1, 2048, 64, 4]         4,096\n",
       "|    |    └─ReLU: 3-139                  [-1, 2048, 64, 4]         --\n",
       "|    └─Bottleneck: 2-16                  [-1, 2048, 64, 4]         --\n",
       "|    |    └─Conv2d: 3-140                [-1, 512, 64, 4]          1,048,576\n",
       "|    |    └─BatchNorm2d: 3-141           [-1, 512, 64, 4]          1,024\n",
       "|    |    └─ReLU: 3-142                  [-1, 512, 64, 4]          --\n",
       "|    |    └─Conv2d: 3-143                [-1, 512, 64, 4]          2,359,296\n",
       "|    |    └─BatchNorm2d: 3-144           [-1, 512, 64, 4]          1,024\n",
       "|    |    └─ReLU: 3-145                  [-1, 512, 64, 4]          --\n",
       "|    |    └─Conv2d: 3-146                [-1, 2048, 64, 4]         1,048,576\n",
       "|    |    └─BatchNorm2d: 3-147           [-1, 2048, 64, 4]         4,096\n",
       "|    |    └─ReLU: 3-148                  [-1, 2048, 64, 4]         --\n",
       "├─AdaptiveAvgPool2d: 1-9                 [-1, 2048, 1, 1]          --\n",
       "├─Sequential: 1-10                       [-1, 8]                   --\n",
       "|    └─Linear: 2-17                      [-1, 100]                 204,900\n",
       "|    └─ReLU: 2-18                        [-1, 100]                 --\n",
       "|    └─Dropout: 2-19                     [-1, 100]                 --\n",
       "|    └─Linear: 2-20                      [-1, 8]                   808\n",
       "==========================================================================================\n",
       "Total params: 23,713,740\n",
       "Trainable params: 23,713,740\n",
       "Non-trainable params: 0\n",
       "Total mult-adds (G): 18.42\n",
       "==========================================================================================\n",
       "Input size (MB): 2.34\n",
       "Forward/backward pass size (MB): 724.00\n",
       "Params size (MB): 90.46\n",
       "Estimated Total Size (MB): 816.81\n",
       "=========================================================================================="
      ]
     },
     "execution_count": 23,
     "metadata": {},
     "output_type": "execute_result"
    }
   ],
   "source": [
    "from torchsummary import summary\n",
    "\n",
    "summary(model, (3, 2048, 100))"
   ]
  },
  {
   "cell_type": "code",
   "execution_count": 24,
   "metadata": {
    "id": "oop3mYjNbDJO"
   },
   "outputs": [],
   "source": [
    "import torch.optim as optim\n",
    "\n",
    "criterion = nn.CrossEntropyLoss()\n",
    "optimizer = optim.SGD(model.parameters(), lr=0.001, momentum=0.9)"
   ]
  },
  {
   "cell_type": "code",
   "execution_count": 25,
   "metadata": {
    "colab": {
     "base_uri": "https://localhost:8080/",
     "height": 454
    },
    "id": "iXtKit9JbG9-",
    "outputId": "cf32683e-cff3-49ae-d740-d0f5b8c809fe"
   },
   "outputs": [
    {
     "name": "stderr",
     "output_type": "stream",
     "text": [
      "\r",
      "  0%|                                                                                          | 0/387 [00:00<?, ?it/s]"
     ]
    },
    {
     "name": "stdout",
     "output_type": "stream",
     "text": [
      "C:\\Users\\ebele\\Downloads\n",
      "Starting epoch 1\n"
     ]
    },
    {
     "name": "stderr",
     "output_type": "stream",
     "text": [
      "100%|██████████████████████████████████████████████████████████████████████████████| 387/387 [1:23:11<00:00, 12.90s/it]\n",
      "  0%|                                                                                          | 0/387 [00:00<?, ?it/s]"
     ]
    },
    {
     "name": "stdout",
     "output_type": "stream",
     "text": [
      "Starting epoch 2\n"
     ]
    },
    {
     "name": "stderr",
     "output_type": "stream",
     "text": [
      "100%|██████████████████████████████████████████████████████████████████████████████| 387/387 [1:19:59<00:00, 12.40s/it]\n",
      "  0%|                                                                                          | 0/387 [00:00<?, ?it/s]"
     ]
    },
    {
     "name": "stdout",
     "output_type": "stream",
     "text": [
      "Starting epoch 3\n"
     ]
    },
    {
     "name": "stderr",
     "output_type": "stream",
     "text": [
      "100%|██████████████████████████████████████████████████████████████████████████████| 387/387 [1:22:52<00:00, 12.85s/it]\n",
      "  0%|                                                                                          | 0/387 [00:00<?, ?it/s]"
     ]
    },
    {
     "name": "stdout",
     "output_type": "stream",
     "text": [
      "Starting epoch 4\n"
     ]
    },
    {
     "name": "stderr",
     "output_type": "stream",
     "text": [
      "100%|██████████████████████████████████████████████████████████████████████████████| 387/387 [1:19:27<00:00, 12.32s/it]\n",
      "  0%|                                                                                          | 0/387 [00:00<?, ?it/s]"
     ]
    },
    {
     "name": "stdout",
     "output_type": "stream",
     "text": [
      "Starting epoch 5\n"
     ]
    },
    {
     "name": "stderr",
     "output_type": "stream",
     "text": [
      "100%|██████████████████████████████████████████████████████████████████████████████| 387/387 [1:19:49<00:00, 12.38s/it]\n",
      "  0%|                                                                                          | 0/387 [00:00<?, ?it/s]"
     ]
    },
    {
     "name": "stdout",
     "output_type": "stream",
     "text": [
      "Starting epoch 6\n"
     ]
    },
    {
     "name": "stderr",
     "output_type": "stream",
     "text": [
      "100%|██████████████████████████████████████████████████████████████████████████████| 387/387 [1:19:29<00:00, 12.33s/it]\n",
      "  0%|                                                                                          | 0/387 [00:00<?, ?it/s]"
     ]
    },
    {
     "name": "stdout",
     "output_type": "stream",
     "text": [
      "Starting epoch 7\n"
     ]
    },
    {
     "name": "stderr",
     "output_type": "stream",
     "text": [
      "100%|██████████████████████████████████████████████████████████████████████████████| 387/387 [1:19:33<00:00, 12.34s/it]\n",
      "  0%|                                                                                          | 0/387 [00:00<?, ?it/s]"
     ]
    },
    {
     "name": "stdout",
     "output_type": "stream",
     "text": [
      "Starting epoch 8\n"
     ]
    },
    {
     "name": "stderr",
     "output_type": "stream",
     "text": [
      "100%|██████████████████████████████████████████████████████████████████████████████| 387/387 [1:20:41<00:00, 12.51s/it]\n",
      "  0%|                                                                                          | 0/387 [00:00<?, ?it/s]"
     ]
    },
    {
     "name": "stdout",
     "output_type": "stream",
     "text": [
      "Starting epoch 9\n"
     ]
    },
    {
     "name": "stderr",
     "output_type": "stream",
     "text": [
      "100%|██████████████████████████████████████████████████████████████████████████████| 387/387 [1:21:02<00:00, 12.56s/it]\n",
      "  0%|                                                                                          | 0/387 [00:00<?, ?it/s]"
     ]
    },
    {
     "name": "stdout",
     "output_type": "stream",
     "text": [
      "Starting epoch 10\n"
     ]
    },
    {
     "name": "stderr",
     "output_type": "stream",
     "text": [
      "100%|██████████████████████████████████████████████████████████████████████████████| 387/387 [1:21:30<00:00, 12.64s/it]\n"
     ]
    }
   ],
   "source": [
    "from PIL import Image\n",
    "\n",
    "import os\n",
    "print(os.getcwd())   \n",
    "\n",
    "# os.chdir(\"/gdrive/MyDrive/Final_ProjectWork/Original_Dataset/\")\n",
    "# print(os.getcwd())   \n",
    "\n",
    "num_epochs = 10\n",
    "batch = 128\n",
    "\n",
    "tracking_loss = {}\n",
    "\n",
    "for epoch in range(1, num_epochs + 1):\n",
    "    print(f\"Starting epoch {epoch}\")\n",
    "\n",
    "    # iterate through the dataloader batches. tqdm keeps track of progress.\n",
    "    for batch_n, batch in tqdm(\n",
    "        enumerate(train_dataloader), total=len(train_dataloader)\n",
    "    ):\n",
    "\n",
    "        # 1) zero out the parameter gradients so that gradients from previous batches are not used in this step\n",
    "        optimizer.zero_grad()\n",
    "\n",
    "        # 2) run the foward step on this batch of images\n",
    "        outputs = model(batch[\"image\"])\n",
    "\n",
    "        # 3) compute the loss\n",
    "        loss = criterion(outputs, batch[\"label\"])\n",
    "        # let's keep track of the loss by epoch and batch\n",
    "        tracking_loss[(epoch, batch_n)] = float(loss)\n",
    "\n",
    "        # 4) compute our gradients\n",
    "        loss.backward()\n",
    "        # update our weights\n",
    "        optimizer.step()"
   ]
  },
  {
   "cell_type": "code",
   "execution_count": 26,
   "metadata": {
    "colab": {
     "base_uri": "https://localhost:8080/",
     "height": 513
    },
    "id": "b5GKS2EkbPon",
    "outputId": "40108ec0-05a2-4fd9-a339-33ecb802ccec"
   },
   "outputs": [
    {
     "data": {
      "text/plain": [
       "<matplotlib.legend.Legend at 0x2d62a08f0a0>"
      ]
     },
     "execution_count": 26,
     "metadata": {},
     "output_type": "execute_result"
    },
    {
     "data": {
      "image/png": "[encoded data removed]",
      "text/plain": [
       "<Figure size 720x360 with 1 Axes>"
      ]
     },
     "metadata": {
      "needs_background": "light"
     },
     "output_type": "display_data"
    }
   ],
   "source": [
    "tracking_loss = pd.Series(tracking_loss)\n",
    "\n",
    "plt.figure(figsize=(10, 5))\n",
    "tracking_loss.plot(alpha=0.2, label=\"loss\")\n",
    "tracking_loss.rolling(center=True, min_periods=1, window=10).mean().plot(\n",
    "    label=\"loss (moving avg)\"\n",
    ")\n",
    "plt.xlabel(\"(Epoch, Batch)\")\n",
    "plt.ylabel(\"Loss\")\n",
    "plt.legend(loc=0)"
   ]
  },
  {
   "cell_type": "markdown",
   "metadata": {},
   "source": [
    "### 4.2 Evaluation of Model 1"
   ]
  },
  {
   "cell_type": "code",
   "execution_count": 42,
   "metadata": {},
   "outputs": [],
   "source": [
    "eval_dataset = ImagesDataset(x_eval, y_eval)\n",
    "eval_dataloader = DataLoader(eval_dataset, batch_size=32)"
   ]
  },
  {
   "cell_type": "code",
   "execution_count": 43,
   "metadata": {
    "scrolled": true
   },
   "outputs": [
    {
     "name": "stderr",
     "output_type": "stream",
     "text": [
      "100%|████████████████████████████████████████████████████████████████████████████████| 387/387 [31:04<00:00,  4.82s/it]\n"
     ]
    },
    {
     "data": {
      "text/html": [
       "<div>\n",
       "<style scoped>\n",
       "    .dataframe tbody tr th:only-of-type {\n",
       "        vertical-align: middle;\n",
       "    }\n",
       "\n",
       "    .dataframe tbody tr th {\n",
       "        vertical-align: top;\n",
       "    }\n",
       "\n",
       "    .dataframe thead th {\n",
       "        text-align: right;\n",
       "    }\n",
       "</style>\n",
       "<table border=\"1\" class=\"dataframe\">\n",
       "  <thead>\n",
       "    <tr style=\"text-align: right;\">\n",
       "      <th></th>\n",
       "      <th>antelope_duiker</th>\n",
       "      <th>bird</th>\n",
       "      <th>blank</th>\n",
       "      <th>civet_genet</th>\n",
       "      <th>hog</th>\n",
       "      <th>leopard</th>\n",
       "      <th>monkey_prosimian</th>\n",
       "      <th>rodent</th>\n",
       "    </tr>\n",
       "  </thead>\n",
       "  <tbody>\n",
       "    <tr>\n",
       "      <th>ZJ008661</th>\n",
       "      <td>2.524388e-04</td>\n",
       "      <td>6.780370e-06</td>\n",
       "      <td>0.000147</td>\n",
       "      <td>6.258105e-06</td>\n",
       "      <td>3.341844e-08</td>\n",
       "      <td>3.905043e-09</td>\n",
       "      <td>5.339373e-07</td>\n",
       "      <td>9.995871e-01</td>\n",
       "    </tr>\n",
       "    <tr>\n",
       "      <th>ZJ011365</th>\n",
       "      <td>8.504174e-02</td>\n",
       "      <td>1.254092e-04</td>\n",
       "      <td>0.907017</td>\n",
       "      <td>9.391791e-05</td>\n",
       "      <td>5.268435e-04</td>\n",
       "      <td>3.096182e-03</td>\n",
       "      <td>4.034366e-03</td>\n",
       "      <td>6.480307e-05</td>\n",
       "    </tr>\n",
       "    <tr>\n",
       "      <th>ZJ000363</th>\n",
       "      <td>8.776753e-03</td>\n",
       "      <td>2.355634e-03</td>\n",
       "      <td>0.868383</td>\n",
       "      <td>4.193784e-04</td>\n",
       "      <td>1.198272e-04</td>\n",
       "      <td>8.175701e-04</td>\n",
       "      <td>9.761596e-03</td>\n",
       "      <td>1.093663e-01</td>\n",
       "    </tr>\n",
       "    <tr>\n",
       "      <th>ZJ013949</th>\n",
       "      <td>3.703254e-06</td>\n",
       "      <td>7.488484e-07</td>\n",
       "      <td>0.000008</td>\n",
       "      <td>6.661098e-06</td>\n",
       "      <td>1.179227e-08</td>\n",
       "      <td>7.179294e-10</td>\n",
       "      <td>4.262106e-08</td>\n",
       "      <td>9.999803e-01</td>\n",
       "    </tr>\n",
       "    <tr>\n",
       "      <th>ZJ006936</th>\n",
       "      <td>7.587492e-08</td>\n",
       "      <td>7.001975e-06</td>\n",
       "      <td>0.000713</td>\n",
       "      <td>9.989408e-01</td>\n",
       "      <td>2.545728e-07</td>\n",
       "      <td>1.232667e-04</td>\n",
       "      <td>3.627699e-06</td>\n",
       "      <td>2.117734e-04</td>\n",
       "    </tr>\n",
       "    <tr>\n",
       "      <th>...</th>\n",
       "      <td>...</td>\n",
       "      <td>...</td>\n",
       "      <td>...</td>\n",
       "      <td>...</td>\n",
       "      <td>...</td>\n",
       "      <td>...</td>\n",
       "      <td>...</td>\n",
       "      <td>...</td>\n",
       "    </tr>\n",
       "    <tr>\n",
       "      <th>ZJ002982</th>\n",
       "      <td>9.536035e-04</td>\n",
       "      <td>8.553939e-01</td>\n",
       "      <td>0.004887</td>\n",
       "      <td>3.296988e-05</td>\n",
       "      <td>1.260484e-05</td>\n",
       "      <td>1.572733e-05</td>\n",
       "      <td>1.032635e-03</td>\n",
       "      <td>1.376718e-01</td>\n",
       "    </tr>\n",
       "    <tr>\n",
       "      <th>ZJ003386</th>\n",
       "      <td>9.999961e-01</td>\n",
       "      <td>1.352411e-08</td>\n",
       "      <td>0.000002</td>\n",
       "      <td>1.363429e-08</td>\n",
       "      <td>4.221592e-07</td>\n",
       "      <td>4.364292e-10</td>\n",
       "      <td>4.171283e-07</td>\n",
       "      <td>9.712741e-07</td>\n",
       "    </tr>\n",
       "    <tr>\n",
       "      <th>ZJ010491</th>\n",
       "      <td>4.663473e-06</td>\n",
       "      <td>4.680985e-06</td>\n",
       "      <td>0.000008</td>\n",
       "      <td>3.803094e-05</td>\n",
       "      <td>1.192173e-06</td>\n",
       "      <td>1.564732e-08</td>\n",
       "      <td>5.279785e-09</td>\n",
       "      <td>9.999439e-01</td>\n",
       "    </tr>\n",
       "    <tr>\n",
       "      <th>ZJ007858</th>\n",
       "      <td>9.559956e-04</td>\n",
       "      <td>6.288602e-07</td>\n",
       "      <td>0.000332</td>\n",
       "      <td>5.475666e-07</td>\n",
       "      <td>3.329965e-08</td>\n",
       "      <td>1.283702e-06</td>\n",
       "      <td>9.987087e-01</td>\n",
       "      <td>7.874153e-07</td>\n",
       "    </tr>\n",
       "    <tr>\n",
       "      <th>ZJ002971</th>\n",
       "      <td>3.492435e-04</td>\n",
       "      <td>1.548906e-03</td>\n",
       "      <td>0.951668</td>\n",
       "      <td>7.612334e-05</td>\n",
       "      <td>5.162883e-06</td>\n",
       "      <td>1.711612e-03</td>\n",
       "      <td>4.424926e-02</td>\n",
       "      <td>3.915918e-04</td>\n",
       "    </tr>\n",
       "  </tbody>\n",
       "</table>\n",
       "<p>12366 rows × 8 columns</p>\n",
       "</div>"
      ],
      "text/plain": [
       "          antelope_duiker          bird     blank   civet_genet           hog  \\\n",
       "ZJ008661     2.524388e-04  6.780370e-06  0.000147  6.258105e-06  3.341844e-08   \n",
       "ZJ011365     8.504174e-02  1.254092e-04  0.907017  9.391791e-05  5.268435e-04   \n",
       "ZJ000363     8.776753e-03  2.355634e-03  0.868383  4.193784e-04  1.198272e-04   \n",
       "ZJ013949     3.703254e-06  7.488484e-07  0.000008  6.661098e-06  1.179227e-08   \n",
       "ZJ006936     7.587492e-08  7.001975e-06  0.000713  9.989408e-01  2.545728e-07   \n",
       "...                   ...           ...       ...           ...           ...   \n",
       "ZJ002982     9.536035e-04  8.553939e-01  0.004887  3.296988e-05  1.260484e-05   \n",
       "ZJ003386     9.999961e-01  1.352411e-08  0.000002  1.363429e-08  4.221592e-07   \n",
       "ZJ010491     4.663473e-06  4.680985e-06  0.000008  3.803094e-05  1.192173e-06   \n",
       "ZJ007858     9.559956e-04  6.288602e-07  0.000332  5.475666e-07  3.329965e-08   \n",
       "ZJ002971     3.492435e-04  1.548906e-03  0.951668  7.612334e-05  5.162883e-06   \n",
       "\n",
       "               leopard  monkey_prosimian        rodent  \n",
       "ZJ008661  3.905043e-09      5.339373e-07  9.995871e-01  \n",
       "ZJ011365  3.096182e-03      4.034366e-03  6.480307e-05  \n",
       "ZJ000363  8.175701e-04      9.761596e-03  1.093663e-01  \n",
       "ZJ013949  7.179294e-10      4.262106e-08  9.999803e-01  \n",
       "ZJ006936  1.232667e-04      3.627699e-06  2.117734e-04  \n",
       "...                ...               ...           ...  \n",
       "ZJ002982  1.572733e-05      1.032635e-03  1.376718e-01  \n",
       "ZJ003386  4.364292e-10      4.171283e-07  9.712741e-07  \n",
       "ZJ010491  1.564732e-08      5.279785e-09  9.999439e-01  \n",
       "ZJ007858  1.283702e-06      9.987087e-01  7.874153e-07  \n",
       "ZJ002971  1.711612e-03      4.424926e-02  3.915918e-04  \n",
       "\n",
       "[12366 rows x 8 columns]"
      ]
     },
     "execution_count": 43,
     "metadata": {},
     "output_type": "execute_result"
    }
   ],
   "source": [
    "preds_collector = []\n",
    "\n",
    "# put the model in eval mode so we don't update any parameters\n",
    "model.eval()\n",
    "\n",
    "# we aren't updating our weights so no need to calculate gradients\n",
    "with torch.no_grad():\n",
    "    for batch in tqdm(eval_dataloader, total=len(eval_dataloader)):\n",
    "        # 1) run the forward step\n",
    "        logits = model.forward(batch[\"image\"])\n",
    "        # 2) apply softmax so that model outputs are in range [0,1]\n",
    "        preds = nn.functional.softmax(logits, dim=1)\n",
    "        # 3) store this batch's predictions in df\n",
    "        # note that PyTorch Tensors need to first be detached from their computational graph before converting to numpy arrays\n",
    "        preds_df = pd.DataFrame(\n",
    "            preds.detach().numpy(),\n",
    "            index=batch[\"image_id\"],\n",
    "            columns=species_labels,\n",
    "        )\n",
    "        preds_collector.append(preds_df)\n",
    "\n",
    "eval_preds_df = pd.concat(preds_collector)\n",
    "eval_preds_df"
   ]
  },
  {
   "cell_type": "code",
   "execution_count": 44,
   "metadata": {},
   "outputs": [
    {
     "name": "stdout",
     "output_type": "stream",
     "text": [
      "True labels (training):\n"
     ]
    },
    {
     "data": {
      "text/plain": [
       "monkey_prosimian    1869\n",
       "antelope_duiker     1855\n",
       "civet_genet         1817\n",
       "leopard             1691\n",
       "blank               1660\n",
       "rodent              1510\n",
       "bird                1231\n",
       "hog                  733\n",
       "dtype: int64"
      ]
     },
     "execution_count": 44,
     "metadata": {},
     "output_type": "execute_result"
    }
   ],
   "source": [
    "# Predicted labels distribution\n",
    "print(\"True labels (training):\")\n",
    "y_train.idxmax(axis=1).value_counts()"
   ]
  },
  {
   "cell_type": "code",
   "execution_count": 45,
   "metadata": {},
   "outputs": [
    {
     "name": "stdout",
     "output_type": "stream",
     "text": [
      "Predicted labels (eval):\n"
     ]
    },
    {
     "data": {
      "text/plain": [
       "monkey_prosimian    1914\n",
       "antelope_duiker     1857\n",
       "civet_genet         1821\n",
       "leopard             1721\n",
       "blank               1574\n",
       "rodent              1490\n",
       "bird                1261\n",
       "hog                  728\n",
       "dtype: int64"
      ]
     },
     "execution_count": 45,
     "metadata": {},
     "output_type": "execute_result"
    }
   ],
   "source": [
    "print(\"Predicted labels (eval):\")\n",
    "eval_preds_df.idxmax(axis=1).value_counts()"
   ]
  },
  {
   "cell_type": "code",
   "execution_count": 46,
   "metadata": {},
   "outputs": [
    {
     "name": "stdout",
     "output_type": "stream",
     "text": [
      "True labels (eval):\n"
     ]
    },
    {
     "data": {
      "text/plain": [
       "monkey_prosimian    623\n",
       "antelope_duiker     619\n",
       "civet_genet         606\n",
       "leopard             563\n",
       "blank               553\n",
       "rodent              503\n",
       "bird                410\n",
       "hog                 245\n",
       "dtype: int64"
      ]
     },
     "execution_count": 46,
     "metadata": {},
     "output_type": "execute_result"
    }
   ],
   "source": [
    "print(\"True labels (eval):\")\n",
    "y_eval.idxmax(axis=1).value_counts()"
   ]
  },
  {
   "cell_type": "code",
   "execution_count": 47,
   "metadata": {},
   "outputs": [
    {
     "data": {
      "text/plain": [
       "ZJ008661         rodent\n",
       "ZJ011365          blank\n",
       "ZJ000363          blank\n",
       "ZJ013949         rodent\n",
       "ZJ006936    civet_genet\n",
       "dtype: object"
      ]
     },
     "execution_count": 47,
     "metadata": {},
     "output_type": "execute_result"
    }
   ],
   "source": [
    "# Accuracy of  Model 1\n",
    "## Show labels with the highest score for each image\n",
    "\n",
    "eval_predictions = eval_preds_df.idxmax(axis=1)\n",
    "eval_predictions.head()"
   ]
  },
  {
   "cell_type": "code",
   "execution_count": 48,
   "metadata": {},
   "outputs": [
    {
     "data": {
      "text/plain": [
       "0.05038007439754165"
      ]
     },
     "execution_count": 48,
     "metadata": {},
     "output_type": "execute_result"
    }
   ],
   "source": [
    "eval_true = y_eval.idxmax(axis=1)\n",
    "\n",
    "(eval_true == \"monkey_prosimian\").sum() / len(eval_predictions)"
   ]
  },
  {
   "cell_type": "code",
   "execution_count": 49,
   "metadata": {},
   "outputs": [
    {
     "data": {
      "text/plain": [
       "0.05005660682516578"
      ]
     },
     "execution_count": 49,
     "metadata": {},
     "output_type": "execute_result"
    }
   ],
   "source": [
    "(eval_true == \"antelope_duiker\").sum() / len(eval_predictions)"
   ]
  },
  {
   "cell_type": "code",
   "execution_count": 50,
   "metadata": {},
   "outputs": [
    {
     "data": {
      "text/plain": [
       "0.049005337214944204"
      ]
     },
     "execution_count": 50,
     "metadata": {},
     "output_type": "execute_result"
    }
   ],
   "source": [
    "(eval_true == \"civet_genet\").sum() / len(eval_predictions)"
   ]
  },
  {
   "cell_type": "code",
   "execution_count": 51,
   "metadata": {},
   "outputs": [
    {
     "data": {
      "text/plain": [
       "0.04552806081190361"
      ]
     },
     "execution_count": 51,
     "metadata": {},
     "output_type": "execute_result"
    }
   ],
   "source": [
    "(eval_true == \"leopard\").sum() / len(eval_predictions)"
   ]
  },
  {
   "cell_type": "code",
   "execution_count": 52,
   "metadata": {},
   "outputs": [
    {
     "data": {
      "text/plain": [
       "0.04471939188096393"
      ]
     },
     "execution_count": 52,
     "metadata": {},
     "output_type": "execute_result"
    }
   ],
   "source": [
    "(eval_true == \"blank\").sum() / len(eval_predictions)"
   ]
  },
  {
   "cell_type": "code",
   "execution_count": 53,
   "metadata": {},
   "outputs": [
    {
     "data": {
      "text/plain": [
       "0.04067604722626557"
      ]
     },
     "execution_count": 53,
     "metadata": {},
     "output_type": "execute_result"
    }
   ],
   "source": [
    "(eval_true == \"rodent\").sum() / len(eval_predictions)"
   ]
  },
  {
   "cell_type": "code",
   "execution_count": 54,
   "metadata": {},
   "outputs": [
    {
     "data": {
      "text/plain": [
       "0.033155426168526604"
      ]
     },
     "execution_count": 54,
     "metadata": {},
     "output_type": "execute_result"
    }
   ],
   "source": [
    "(eval_true == \"bird\").sum() / len(eval_predictions)"
   ]
  },
  {
   "cell_type": "code",
   "execution_count": 55,
   "metadata": {},
   "outputs": [
    {
     "data": {
      "text/plain": [
       "0.019812388808021997"
      ]
     },
     "execution_count": 55,
     "metadata": {},
     "output_type": "execute_result"
    }
   ],
   "source": [
    "(eval_true == \"hog\").sum() / len(eval_predictions)"
   ]
  },
  {
   "cell_type": "code",
   "execution_count": 56,
   "metadata": {},
   "outputs": [],
   "source": [
    "#correct = (eval_predictions == eval_true).sum()\n",
    "#accuracy = correct / len(eval_predictions)\n",
    "#accuracy"
   ]
  },
  {
   "cell_type": "code",
   "execution_count": 164,
   "metadata": {},
   "outputs": [
    {
     "ename": "AttributeError",
     "evalue": "type object 'ConfusionMatrixDisplay' has no attribute 'from_predictions'",
     "output_type": "error",
     "traceback": [
      "\u001b[1;31m---------------------------------------------------------------------------\u001b[0m",
      "\u001b[1;31mAttributeError\u001b[0m                            Traceback (most recent call last)",
      "\u001b[1;32m<ipython-input-164-f660804cdfbd>\u001b[0m in \u001b[0;36m<module>\u001b[1;34m\u001b[0m\n\u001b[0;32m      2\u001b[0m \u001b[1;33m\u001b[0m\u001b[0m\n\u001b[0;32m      3\u001b[0m \u001b[0mfig\u001b[0m\u001b[1;33m,\u001b[0m \u001b[0max\u001b[0m \u001b[1;33m=\u001b[0m \u001b[0mplt\u001b[0m\u001b[1;33m.\u001b[0m\u001b[0msubplots\u001b[0m\u001b[1;33m(\u001b[0m\u001b[0mfigsize\u001b[0m\u001b[1;33m=\u001b[0m\u001b[1;33m(\u001b[0m\u001b[1;36m10\u001b[0m\u001b[1;33m,\u001b[0m \u001b[1;36m10\u001b[0m\u001b[1;33m)\u001b[0m\u001b[1;33m)\u001b[0m\u001b[1;33m\u001b[0m\u001b[1;33m\u001b[0m\u001b[0m\n\u001b[1;32m----> 4\u001b[1;33m cm = ConfusionMatrixDisplay.from_predictions(\n\u001b[0m\u001b[0;32m      5\u001b[0m     \u001b[0my_eval\u001b[0m\u001b[1;33m.\u001b[0m\u001b[0midxmax\u001b[0m\u001b[1;33m(\u001b[0m\u001b[0maxis\u001b[0m\u001b[1;33m=\u001b[0m\u001b[1;36m1\u001b[0m\u001b[1;33m)\u001b[0m\u001b[1;33m,\u001b[0m\u001b[1;33m\u001b[0m\u001b[1;33m\u001b[0m\u001b[0m\n\u001b[0;32m      6\u001b[0m     \u001b[0meval_preds_df\u001b[0m\u001b[1;33m.\u001b[0m\u001b[0midxmax\u001b[0m\u001b[1;33m(\u001b[0m\u001b[0maxis\u001b[0m\u001b[1;33m=\u001b[0m\u001b[1;36m1\u001b[0m\u001b[1;33m)\u001b[0m\u001b[1;33m,\u001b[0m\u001b[1;33m\u001b[0m\u001b[1;33m\u001b[0m\u001b[0m\n",
      "\u001b[1;31mAttributeError\u001b[0m: type object 'ConfusionMatrixDisplay' has no attribute 'from_predictions'"
     ]
    },
    {
     "data": {
      "image/png": "[encoded data removed]",
      "text/plain": [
       "<Figure size 720x720 with 1 Axes>"
      ]
     },
     "metadata": {
      "needs_background": "light"
     },
     "output_type": "display_data"
    }
   ],
   "source": [
    "from sklearn.metrics import ConfusionMatrixDisplay\n",
    "\n",
    "fig, ax = plt.subplots(figsize=(10, 10))\n",
    "cm = ConfusionMatrixDisplay.from_predictions(\n",
    "    y_eval.idxmax(axis=1),\n",
    "    eval_preds_df.idxmax(axis=1),\n",
    "    ax=ax,\n",
    "    xticks_rotation=90,\n",
    "    colorbar=True,\n",
    ")"
   ]
  },
  {
   "cell_type": "markdown",
   "metadata": {},
   "source": [
    "### 4.3 Prediction on Test Dataset"
   ]
  },
  {
   "cell_type": "code",
   "execution_count": 59,
   "metadata": {},
   "outputs": [],
   "source": [
    "test_dataset = ImagesDataset(test_features.filepath.to_frame())\n",
    "test_dataloader = DataLoader(test_dataset, batch_size=32)"
   ]
  },
  {
   "cell_type": "code",
   "execution_count": 60,
   "metadata": {},
   "outputs": [
    {
     "name": "stderr",
     "output_type": "stream",
     "text": [
      "100%|████████████████████████████████████████████████████████████████████████████████| 387/387 [30:38<00:00,  4.75s/it]\n"
     ]
    },
    {
     "data": {
      "text/html": [
       "<div>\n",
       "<style scoped>\n",
       "    .dataframe tbody tr th:only-of-type {\n",
       "        vertical-align: middle;\n",
       "    }\n",
       "\n",
       "    .dataframe tbody tr th {\n",
       "        vertical-align: top;\n",
       "    }\n",
       "\n",
       "    .dataframe thead th {\n",
       "        text-align: right;\n",
       "    }\n",
       "</style>\n",
       "<table border=\"1\" class=\"dataframe\">\n",
       "  <thead>\n",
       "    <tr style=\"text-align: right;\">\n",
       "      <th></th>\n",
       "      <th>antelope_duiker</th>\n",
       "      <th>bird</th>\n",
       "      <th>blank</th>\n",
       "      <th>civet_genet</th>\n",
       "      <th>hog</th>\n",
       "      <th>leopard</th>\n",
       "      <th>monkey_prosimian</th>\n",
       "      <th>rodent</th>\n",
       "    </tr>\n",
       "  </thead>\n",
       "  <tbody>\n",
       "    <tr>\n",
       "      <th>ZJ008661</th>\n",
       "      <td>2.524388e-04</td>\n",
       "      <td>6.780370e-06</td>\n",
       "      <td>0.000147</td>\n",
       "      <td>6.258105e-06</td>\n",
       "      <td>3.341844e-08</td>\n",
       "      <td>3.905043e-09</td>\n",
       "      <td>5.339373e-07</td>\n",
       "      <td>9.995871e-01</td>\n",
       "    </tr>\n",
       "    <tr>\n",
       "      <th>ZJ011365</th>\n",
       "      <td>8.504174e-02</td>\n",
       "      <td>1.254092e-04</td>\n",
       "      <td>0.907017</td>\n",
       "      <td>9.391791e-05</td>\n",
       "      <td>5.268435e-04</td>\n",
       "      <td>3.096182e-03</td>\n",
       "      <td>4.034366e-03</td>\n",
       "      <td>6.480307e-05</td>\n",
       "    </tr>\n",
       "    <tr>\n",
       "      <th>ZJ000363</th>\n",
       "      <td>8.776753e-03</td>\n",
       "      <td>2.355634e-03</td>\n",
       "      <td>0.868383</td>\n",
       "      <td>4.193784e-04</td>\n",
       "      <td>1.198272e-04</td>\n",
       "      <td>8.175701e-04</td>\n",
       "      <td>9.761596e-03</td>\n",
       "      <td>1.093663e-01</td>\n",
       "    </tr>\n",
       "    <tr>\n",
       "      <th>ZJ013949</th>\n",
       "      <td>3.703254e-06</td>\n",
       "      <td>7.488484e-07</td>\n",
       "      <td>0.000008</td>\n",
       "      <td>6.661098e-06</td>\n",
       "      <td>1.179227e-08</td>\n",
       "      <td>7.179294e-10</td>\n",
       "      <td>4.262106e-08</td>\n",
       "      <td>9.999803e-01</td>\n",
       "    </tr>\n",
       "    <tr>\n",
       "      <th>ZJ006936</th>\n",
       "      <td>7.587492e-08</td>\n",
       "      <td>7.001975e-06</td>\n",
       "      <td>0.000713</td>\n",
       "      <td>9.989408e-01</td>\n",
       "      <td>2.545728e-07</td>\n",
       "      <td>1.232667e-04</td>\n",
       "      <td>3.627699e-06</td>\n",
       "      <td>2.117734e-04</td>\n",
       "    </tr>\n",
       "    <tr>\n",
       "      <th>...</th>\n",
       "      <td>...</td>\n",
       "      <td>...</td>\n",
       "      <td>...</td>\n",
       "      <td>...</td>\n",
       "      <td>...</td>\n",
       "      <td>...</td>\n",
       "      <td>...</td>\n",
       "      <td>...</td>\n",
       "    </tr>\n",
       "    <tr>\n",
       "      <th>ZJ002982</th>\n",
       "      <td>9.536035e-04</td>\n",
       "      <td>8.553939e-01</td>\n",
       "      <td>0.004887</td>\n",
       "      <td>3.296988e-05</td>\n",
       "      <td>1.260484e-05</td>\n",
       "      <td>1.572733e-05</td>\n",
       "      <td>1.032635e-03</td>\n",
       "      <td>1.376718e-01</td>\n",
       "    </tr>\n",
       "    <tr>\n",
       "      <th>ZJ003386</th>\n",
       "      <td>9.999961e-01</td>\n",
       "      <td>1.352411e-08</td>\n",
       "      <td>0.000002</td>\n",
       "      <td>1.363429e-08</td>\n",
       "      <td>4.221592e-07</td>\n",
       "      <td>4.364292e-10</td>\n",
       "      <td>4.171283e-07</td>\n",
       "      <td>9.712741e-07</td>\n",
       "    </tr>\n",
       "    <tr>\n",
       "      <th>ZJ010491</th>\n",
       "      <td>4.663473e-06</td>\n",
       "      <td>4.680985e-06</td>\n",
       "      <td>0.000008</td>\n",
       "      <td>3.803094e-05</td>\n",
       "      <td>1.192173e-06</td>\n",
       "      <td>1.564732e-08</td>\n",
       "      <td>5.279785e-09</td>\n",
       "      <td>9.999439e-01</td>\n",
       "    </tr>\n",
       "    <tr>\n",
       "      <th>ZJ007858</th>\n",
       "      <td>9.559956e-04</td>\n",
       "      <td>6.288602e-07</td>\n",
       "      <td>0.000332</td>\n",
       "      <td>5.475666e-07</td>\n",
       "      <td>3.329965e-08</td>\n",
       "      <td>1.283702e-06</td>\n",
       "      <td>9.987087e-01</td>\n",
       "      <td>7.874153e-07</td>\n",
       "    </tr>\n",
       "    <tr>\n",
       "      <th>ZJ002971</th>\n",
       "      <td>3.492435e-04</td>\n",
       "      <td>1.548906e-03</td>\n",
       "      <td>0.951668</td>\n",
       "      <td>7.612334e-05</td>\n",
       "      <td>5.162883e-06</td>\n",
       "      <td>1.711612e-03</td>\n",
       "      <td>4.424926e-02</td>\n",
       "      <td>3.915918e-04</td>\n",
       "    </tr>\n",
       "  </tbody>\n",
       "</table>\n",
       "<p>12366 rows × 8 columns</p>\n",
       "</div>"
      ],
      "text/plain": [
       "          antelope_duiker          bird     blank   civet_genet           hog  \\\n",
       "ZJ008661     2.524388e-04  6.780370e-06  0.000147  6.258105e-06  3.341844e-08   \n",
       "ZJ011365     8.504174e-02  1.254092e-04  0.907017  9.391791e-05  5.268435e-04   \n",
       "ZJ000363     8.776753e-03  2.355634e-03  0.868383  4.193784e-04  1.198272e-04   \n",
       "ZJ013949     3.703254e-06  7.488484e-07  0.000008  6.661098e-06  1.179227e-08   \n",
       "ZJ006936     7.587492e-08  7.001975e-06  0.000713  9.989408e-01  2.545728e-07   \n",
       "...                   ...           ...       ...           ...           ...   \n",
       "ZJ002982     9.536035e-04  8.553939e-01  0.004887  3.296988e-05  1.260484e-05   \n",
       "ZJ003386     9.999961e-01  1.352411e-08  0.000002  1.363429e-08  4.221592e-07   \n",
       "ZJ010491     4.663473e-06  4.680985e-06  0.000008  3.803094e-05  1.192173e-06   \n",
       "ZJ007858     9.559956e-04  6.288602e-07  0.000332  5.475666e-07  3.329965e-08   \n",
       "ZJ002971     3.492435e-04  1.548906e-03  0.951668  7.612334e-05  5.162883e-06   \n",
       "\n",
       "               leopard  monkey_prosimian        rodent  \n",
       "ZJ008661  3.905043e-09      5.339373e-07  9.995871e-01  \n",
       "ZJ011365  3.096182e-03      4.034366e-03  6.480307e-05  \n",
       "ZJ000363  8.175701e-04      9.761596e-03  1.093663e-01  \n",
       "ZJ013949  7.179294e-10      4.262106e-08  9.999803e-01  \n",
       "ZJ006936  1.232667e-04      3.627699e-06  2.117734e-04  \n",
       "...                ...               ...           ...  \n",
       "ZJ002982  1.572733e-05      1.032635e-03  1.376718e-01  \n",
       "ZJ003386  4.364292e-10      4.171283e-07  9.712741e-07  \n",
       "ZJ010491  1.564732e-08      5.279785e-09  9.999439e-01  \n",
       "ZJ007858  1.283702e-06      9.987087e-01  7.874153e-07  \n",
       "ZJ002971  1.711612e-03      4.424926e-02  3.915918e-04  \n",
       "\n",
       "[12366 rows x 8 columns]"
      ]
     },
     "execution_count": 60,
     "metadata": {},
     "output_type": "execute_result"
    }
   ],
   "source": [
    "preds_collector = []\n",
    "\n",
    "model.eval()\n",
    "\n",
    "with torch.no_grad():\n",
    "    for batch in tqdm(test_dataloader, total=len(test_dataloader)):\n",
    "        # run the forward step\n",
    "        logits = model.forward(batch[\"image\"])\n",
    "        # apply softmax so that model outputs are in range [0,1]\n",
    "        preds = nn.functional.softmax(logits, dim=1)\n",
    "        # store this batch's predictions in df\n",
    "        preds_df = pd.DataFrame(\n",
    "            preds.detach().numpy(),\n",
    "            index=batch[\"image_id\"],\n",
    "            columns=species_labels,\n",
    "        )\n",
    "        preds_collector.append(preds_df)\n",
    "\n",
    "predicted_test_nolabel = pd.concat(preds_collector)\n",
    "predicted_test_nolabel"
   ]
  },
  {
   "cell_type": "markdown",
   "metadata": {},
   "source": [
    "## 5. Model 2"
   ]
  },
  {
   "cell_type": "markdown",
   "metadata": {},
   "source": [
    "### 5.1 Training of Model 2"
   ]
  },
  {
   "cell_type": "code",
   "execution_count": 61,
   "metadata": {},
   "outputs": [
    {
     "name": "stderr",
     "output_type": "stream",
     "text": [
      "C:\\Users\\ebele\\anaconda3\\lib\\site-packages\\torchvision\\models\\_utils.py:208: UserWarning: The parameter 'pretrained' is deprecated since 0.13 and may be removed in the future, please use 'weights' instead.\n",
      "  warnings.warn(\n",
      "C:\\Users\\ebele\\anaconda3\\lib\\site-packages\\torchvision\\models\\_utils.py:223: UserWarning: Arguments other than a weight enum or `None` for 'weights' are deprecated since 0.13 and may be removed in the future. The current behavior is equivalent to passing `weights=AlexNet_Weights.IMAGENET1K_V1`. You can also use `weights=AlexNet_Weights.DEFAULT` to get the most up-to-date weights.\n",
      "  warnings.warn(msg)\n"
     ]
    }
   ],
   "source": [
    "# Load the pretrained AlexNet model\n",
    "model2 = models.alexnet(pretrained=True)\n",
    "\n",
    "# Modify the classifier \n",
    "model2.classifier = nn.Sequential(\n",
    "    nn.Linear(9216, 100),  # input size to matches AlexNet's output\n",
    "    nn.ReLU(inplace=True),  # ReLU activation introduces non-linearity\n",
    "    nn.Dropout(0.1),  # Common technique to mitigate overfitting\n",
    "    nn.Linear(\n",
    "        100, 8\n",
    "    ),  # Final dense layer outputs 8-dim \n",
    ")"
   ]
  },
  {
   "cell_type": "code",
   "execution_count": 62,
   "metadata": {},
   "outputs": [
    {
     "name": "stdout",
     "output_type": "stream",
     "text": [
      "==========================================================================================\n",
      "Layer (type:depth-idx)                   Output Shape              Param #\n",
      "==========================================================================================\n",
      "├─Sequential: 1-1                        [-1, 256, 63, 2]          --\n",
      "|    └─Conv2d: 2-1                       [-1, 64, 511, 24]         23,296\n",
      "|    └─ReLU: 2-2                         [-1, 64, 511, 24]         --\n",
      "|    └─MaxPool2d: 2-3                    [-1, 64, 255, 11]         --\n",
      "|    └─Conv2d: 2-4                       [-1, 192, 255, 11]        307,392\n",
      "|    └─ReLU: 2-5                         [-1, 192, 255, 11]        --\n",
      "|    └─MaxPool2d: 2-6                    [-1, 192, 127, 5]         --\n",
      "|    └─Conv2d: 2-7                       [-1, 384, 127, 5]         663,936\n",
      "|    └─ReLU: 2-8                         [-1, 384, 127, 5]         --\n",
      "|    └─Conv2d: 2-9                       [-1, 256, 127, 5]         884,992\n",
      "|    └─ReLU: 2-10                        [-1, 256, 127, 5]         --\n",
      "|    └─Conv2d: 2-11                      [-1, 256, 127, 5]         590,080\n",
      "|    └─ReLU: 2-12                        [-1, 256, 127, 5]         --\n",
      "|    └─MaxPool2d: 2-13                   [-1, 256, 63, 2]          --\n",
      "├─AdaptiveAvgPool2d: 1-2                 [-1, 256, 6, 6]           --\n",
      "├─Sequential: 1-3                        [-1, 8]                   --\n",
      "|    └─Linear: 2-14                      [-1, 100]                 921,700\n",
      "|    └─ReLU: 2-15                        [-1, 100]                 --\n",
      "|    └─Dropout: 2-16                     [-1, 100]                 --\n",
      "|    └─Linear: 2-17                      [-1, 8]                   808\n",
      "==========================================================================================\n",
      "Total params: 3,392,204\n",
      "Trainable params: 3,392,204\n",
      "Non-trainable params: 0\n",
      "Total mult-adds (G): 2.51\n",
      "==========================================================================================\n",
      "Input size (MB): 2.34\n",
      "Forward/backward pass size (MB): 14.44\n",
      "Params size (MB): 12.94\n",
      "Estimated Total Size (MB): 29.72\n",
      "==========================================================================================\n"
     ]
    },
    {
     "data": {
      "text/plain": [
       "==========================================================================================\n",
       "Layer (type:depth-idx)                   Output Shape              Param #\n",
       "==========================================================================================\n",
       "├─Sequential: 1-1                        [-1, 256, 63, 2]          --\n",
       "|    └─Conv2d: 2-1                       [-1, 64, 511, 24]         23,296\n",
       "|    └─ReLU: 2-2                         [-1, 64, 511, 24]         --\n",
       "|    └─MaxPool2d: 2-3                    [-1, 64, 255, 11]         --\n",
       "|    └─Conv2d: 2-4                       [-1, 192, 255, 11]        307,392\n",
       "|    └─ReLU: 2-5                         [-1, 192, 255, 11]        --\n",
       "|    └─MaxPool2d: 2-6                    [-1, 192, 127, 5]         --\n",
       "|    └─Conv2d: 2-7                       [-1, 384, 127, 5]         663,936\n",
       "|    └─ReLU: 2-8                         [-1, 384, 127, 5]         --\n",
       "|    └─Conv2d: 2-9                       [-1, 256, 127, 5]         884,992\n",
       "|    └─ReLU: 2-10                        [-1, 256, 127, 5]         --\n",
       "|    └─Conv2d: 2-11                      [-1, 256, 127, 5]         590,080\n",
       "|    └─ReLU: 2-12                        [-1, 256, 127, 5]         --\n",
       "|    └─MaxPool2d: 2-13                   [-1, 256, 63, 2]          --\n",
       "├─AdaptiveAvgPool2d: 1-2                 [-1, 256, 6, 6]           --\n",
       "├─Sequential: 1-3                        [-1, 8]                   --\n",
       "|    └─Linear: 2-14                      [-1, 100]                 921,700\n",
       "|    └─ReLU: 2-15                        [-1, 100]                 --\n",
       "|    └─Dropout: 2-16                     [-1, 100]                 --\n",
       "|    └─Linear: 2-17                      [-1, 8]                   808\n",
       "==========================================================================================\n",
       "Total params: 3,392,204\n",
       "Trainable params: 3,392,204\n",
       "Non-trainable params: 0\n",
       "Total mult-adds (G): 2.51\n",
       "==========================================================================================\n",
       "Input size (MB): 2.34\n",
       "Forward/backward pass size (MB): 14.44\n",
       "Params size (MB): 12.94\n",
       "Estimated Total Size (MB): 29.72\n",
       "=========================================================================================="
      ]
     },
     "execution_count": 62,
     "metadata": {},
     "output_type": "execute_result"
    }
   ],
   "source": [
    "from torchsummary import summary\n",
    "\n",
    "summary(model2, (3, 2048, 100))"
   ]
  },
  {
   "cell_type": "code",
   "execution_count": 63,
   "metadata": {},
   "outputs": [],
   "source": [
    "import torch.optim as optim\n",
    "\n",
    "criterion = nn.CrossEntropyLoss()\n",
    "optimizer = optim.SGD(model2.parameters(), lr=0.0001, momentum=0.9)"
   ]
  },
  {
   "cell_type": "code",
   "execution_count": 64,
   "metadata": {},
   "outputs": [
    {
     "name": "stderr",
     "output_type": "stream",
     "text": [
      "\r",
      "  0%|                                                                                          | 0/387 [00:00<?, ?it/s]"
     ]
    },
    {
     "name": "stdout",
     "output_type": "stream",
     "text": [
      "C:\\Users\\ebele\\Downloads\n",
      "Starting epoch 1\n"
     ]
    },
    {
     "name": "stderr",
     "output_type": "stream",
     "text": [
      "100%|████████████████████████████████████████████████████████████████████████████████| 387/387 [08:43<00:00,  1.35s/it]\n",
      "  0%|                                                                                          | 0/387 [00:00<?, ?it/s]"
     ]
    },
    {
     "name": "stdout",
     "output_type": "stream",
     "text": [
      "Starting epoch 2\n"
     ]
    },
    {
     "name": "stderr",
     "output_type": "stream",
     "text": [
      "100%|████████████████████████████████████████████████████████████████████████████████| 387/387 [09:18<00:00,  1.44s/it]\n",
      "  0%|                                                                                          | 0/387 [00:00<?, ?it/s]"
     ]
    },
    {
     "name": "stdout",
     "output_type": "stream",
     "text": [
      "Starting epoch 3\n"
     ]
    },
    {
     "name": "stderr",
     "output_type": "stream",
     "text": [
      "100%|████████████████████████████████████████████████████████████████████████████████| 387/387 [09:17<00:00,  1.44s/it]\n",
      "  0%|                                                                                          | 0/387 [00:00<?, ?it/s]"
     ]
    },
    {
     "name": "stdout",
     "output_type": "stream",
     "text": [
      "Starting epoch 4\n"
     ]
    },
    {
     "name": "stderr",
     "output_type": "stream",
     "text": [
      "100%|████████████████████████████████████████████████████████████████████████████████| 387/387 [08:56<00:00,  1.39s/it]\n",
      "  0%|                                                                                          | 0/387 [00:00<?, ?it/s]"
     ]
    },
    {
     "name": "stdout",
     "output_type": "stream",
     "text": [
      "Starting epoch 5\n"
     ]
    },
    {
     "name": "stderr",
     "output_type": "stream",
     "text": [
      "100%|████████████████████████████████████████████████████████████████████████████████| 387/387 [08:58<00:00,  1.39s/it]\n",
      "  0%|                                                                                          | 0/387 [00:00<?, ?it/s]"
     ]
    },
    {
     "name": "stdout",
     "output_type": "stream",
     "text": [
      "Starting epoch 6\n"
     ]
    },
    {
     "name": "stderr",
     "output_type": "stream",
     "text": [
      "100%|████████████████████████████████████████████████████████████████████████████████| 387/387 [08:59<00:00,  1.39s/it]\n",
      "  0%|                                                                                          | 0/387 [00:00<?, ?it/s]"
     ]
    },
    {
     "name": "stdout",
     "output_type": "stream",
     "text": [
      "Starting epoch 7\n"
     ]
    },
    {
     "name": "stderr",
     "output_type": "stream",
     "text": [
      "100%|████████████████████████████████████████████████████████████████████████████████| 387/387 [09:17<00:00,  1.44s/it]\n",
      "  0%|                                                                                          | 0/387 [00:00<?, ?it/s]"
     ]
    },
    {
     "name": "stdout",
     "output_type": "stream",
     "text": [
      "Starting epoch 8\n"
     ]
    },
    {
     "name": "stderr",
     "output_type": "stream",
     "text": [
      "100%|████████████████████████████████████████████████████████████████████████████████| 387/387 [09:16<00:00,  1.44s/it]\n",
      "  0%|                                                                                          | 0/387 [00:00<?, ?it/s]"
     ]
    },
    {
     "name": "stdout",
     "output_type": "stream",
     "text": [
      "Starting epoch 9\n"
     ]
    },
    {
     "name": "stderr",
     "output_type": "stream",
     "text": [
      "100%|████████████████████████████████████████████████████████████████████████████████| 387/387 [09:15<00:00,  1.44s/it]\n",
      "  0%|                                                                                          | 0/387 [00:00<?, ?it/s]"
     ]
    },
    {
     "name": "stdout",
     "output_type": "stream",
     "text": [
      "Starting epoch 10\n"
     ]
    },
    {
     "name": "stderr",
     "output_type": "stream",
     "text": [
      "100%|████████████████████████████████████████████████████████████████████████████████| 387/387 [09:24<00:00,  1.46s/it]\n"
     ]
    }
   ],
   "source": [
    "from PIL import Image\n",
    "\n",
    "import os\n",
    "print(os.getcwd())     \n",
    "\n",
    "num_epochs = 10\n",
    "batch = 128\n",
    "\n",
    "tracking_loss = {}\n",
    "\n",
    "for epoch in range(1, num_epochs + 1):\n",
    "    print(f\"Starting epoch {epoch}\")\n",
    "\n",
    "    # iterate through the dataloader batches. tqdm keeps track of progress.\n",
    "    for batch_n, batch in tqdm(\n",
    "        enumerate(train_dataloader), total=len(train_dataloader)\n",
    "    ):\n",
    "\n",
    "        # 1) zero out the parameter gradients so that gradients from previous batches are not used in this step\n",
    "        optimizer.zero_grad()\n",
    "\n",
    "        # 2) run the foward step on this batch of images\n",
    "        outputs = model2(batch[\"image\"])\n",
    "\n",
    "        # 3) compute the loss\n",
    "        loss = criterion(outputs, batch[\"label\"])\n",
    "        # let's keep track of the loss by epoch and batch\n",
    "        tracking_loss[(epoch, batch_n)] = float(loss)\n",
    "\n",
    "        # 4) compute our gradients\n",
    "        loss.backward()\n",
    "        # update our weights\n",
    "        optimizer.step()"
   ]
  },
  {
   "cell_type": "code",
   "execution_count": 65,
   "metadata": {},
   "outputs": [
    {
     "data": {
      "text/plain": [
       "<matplotlib.legend.Legend at 0x2d629b9e370>"
      ]
     },
     "execution_count": 65,
     "metadata": {},
     "output_type": "execute_result"
    },
    {
     "data": {
      "image/png": "[encoded data removed]",
      "text/plain": [
       "<Figure size 720x360 with 1 Axes>"
      ]
     },
     "metadata": {
      "needs_background": "light"
     },
     "output_type": "display_data"
    }
   ],
   "source": [
    "tracking_loss = pd.Series(tracking_loss)\n",
    "\n",
    "plt.figure(figsize=(10, 5))\n",
    "tracking_loss.plot(alpha=0.2, label=\"loss\")\n",
    "tracking_loss.rolling(center=True, min_periods=1, window=10).mean().plot(\n",
    "    label=\"loss (moving avg)\"\n",
    ")\n",
    "plt.xlabel(\"(Epoch, Batch)\")\n",
    "plt.ylabel(\"Loss\")\n",
    "plt.legend(loc=0)"
   ]
  },
  {
   "cell_type": "markdown",
   "metadata": {},
   "source": [
    "### 5.2 Evaluation of Model 2"
   ]
  },
  {
   "cell_type": "code",
   "execution_count": 66,
   "metadata": {},
   "outputs": [],
   "source": [
    "eval_dataset = ImagesDataset(x_eval, y_eval)\n",
    "eval_dataloader = DataLoader(train_dataset, batch_size=32)"
   ]
  },
  {
   "cell_type": "code",
   "execution_count": 67,
   "metadata": {},
   "outputs": [
    {
     "name": "stderr",
     "output_type": "stream",
     "text": [
      "100%|████████████████████████████████████████████████████████████████████████████████| 387/387 [27:31<00:00,  4.27s/it]\n"
     ]
    },
    {
     "data": {
      "text/html": [
       "<div>\n",
       "<style scoped>\n",
       "    .dataframe tbody tr th:only-of-type {\n",
       "        vertical-align: middle;\n",
       "    }\n",
       "\n",
       "    .dataframe tbody tr th {\n",
       "        vertical-align: top;\n",
       "    }\n",
       "\n",
       "    .dataframe thead th {\n",
       "        text-align: right;\n",
       "    }\n",
       "</style>\n",
       "<table border=\"1\" class=\"dataframe\">\n",
       "  <thead>\n",
       "    <tr style=\"text-align: right;\">\n",
       "      <th></th>\n",
       "      <th>antelope_duiker</th>\n",
       "      <th>bird</th>\n",
       "      <th>blank</th>\n",
       "      <th>civet_genet</th>\n",
       "      <th>hog</th>\n",
       "      <th>leopard</th>\n",
       "      <th>monkey_prosimian</th>\n",
       "      <th>rodent</th>\n",
       "    </tr>\n",
       "  </thead>\n",
       "  <tbody>\n",
       "    <tr>\n",
       "      <th>ZJ008661</th>\n",
       "      <td>2.524388e-04</td>\n",
       "      <td>6.780370e-06</td>\n",
       "      <td>0.000147</td>\n",
       "      <td>6.258105e-06</td>\n",
       "      <td>3.341844e-08</td>\n",
       "      <td>3.905043e-09</td>\n",
       "      <td>5.339373e-07</td>\n",
       "      <td>9.995871e-01</td>\n",
       "    </tr>\n",
       "    <tr>\n",
       "      <th>ZJ011365</th>\n",
       "      <td>8.504174e-02</td>\n",
       "      <td>1.254092e-04</td>\n",
       "      <td>0.907017</td>\n",
       "      <td>9.391791e-05</td>\n",
       "      <td>5.268435e-04</td>\n",
       "      <td>3.096182e-03</td>\n",
       "      <td>4.034366e-03</td>\n",
       "      <td>6.480307e-05</td>\n",
       "    </tr>\n",
       "    <tr>\n",
       "      <th>ZJ000363</th>\n",
       "      <td>8.776753e-03</td>\n",
       "      <td>2.355634e-03</td>\n",
       "      <td>0.868383</td>\n",
       "      <td>4.193784e-04</td>\n",
       "      <td>1.198272e-04</td>\n",
       "      <td>8.175701e-04</td>\n",
       "      <td>9.761596e-03</td>\n",
       "      <td>1.093663e-01</td>\n",
       "    </tr>\n",
       "    <tr>\n",
       "      <th>ZJ013949</th>\n",
       "      <td>3.703254e-06</td>\n",
       "      <td>7.488484e-07</td>\n",
       "      <td>0.000008</td>\n",
       "      <td>6.661098e-06</td>\n",
       "      <td>1.179227e-08</td>\n",
       "      <td>7.179294e-10</td>\n",
       "      <td>4.262106e-08</td>\n",
       "      <td>9.999803e-01</td>\n",
       "    </tr>\n",
       "    <tr>\n",
       "      <th>ZJ006936</th>\n",
       "      <td>7.587492e-08</td>\n",
       "      <td>7.001975e-06</td>\n",
       "      <td>0.000713</td>\n",
       "      <td>9.989408e-01</td>\n",
       "      <td>2.545728e-07</td>\n",
       "      <td>1.232667e-04</td>\n",
       "      <td>3.627699e-06</td>\n",
       "      <td>2.117734e-04</td>\n",
       "    </tr>\n",
       "    <tr>\n",
       "      <th>...</th>\n",
       "      <td>...</td>\n",
       "      <td>...</td>\n",
       "      <td>...</td>\n",
       "      <td>...</td>\n",
       "      <td>...</td>\n",
       "      <td>...</td>\n",
       "      <td>...</td>\n",
       "      <td>...</td>\n",
       "    </tr>\n",
       "    <tr>\n",
       "      <th>ZJ002982</th>\n",
       "      <td>9.536035e-04</td>\n",
       "      <td>8.553939e-01</td>\n",
       "      <td>0.004887</td>\n",
       "      <td>3.296988e-05</td>\n",
       "      <td>1.260484e-05</td>\n",
       "      <td>1.572733e-05</td>\n",
       "      <td>1.032635e-03</td>\n",
       "      <td>1.376718e-01</td>\n",
       "    </tr>\n",
       "    <tr>\n",
       "      <th>ZJ003386</th>\n",
       "      <td>9.999961e-01</td>\n",
       "      <td>1.352411e-08</td>\n",
       "      <td>0.000002</td>\n",
       "      <td>1.363429e-08</td>\n",
       "      <td>4.221592e-07</td>\n",
       "      <td>4.364292e-10</td>\n",
       "      <td>4.171283e-07</td>\n",
       "      <td>9.712741e-07</td>\n",
       "    </tr>\n",
       "    <tr>\n",
       "      <th>ZJ010491</th>\n",
       "      <td>4.663473e-06</td>\n",
       "      <td>4.680985e-06</td>\n",
       "      <td>0.000008</td>\n",
       "      <td>3.803094e-05</td>\n",
       "      <td>1.192173e-06</td>\n",
       "      <td>1.564732e-08</td>\n",
       "      <td>5.279785e-09</td>\n",
       "      <td>9.999439e-01</td>\n",
       "    </tr>\n",
       "    <tr>\n",
       "      <th>ZJ007858</th>\n",
       "      <td>9.559956e-04</td>\n",
       "      <td>6.288602e-07</td>\n",
       "      <td>0.000332</td>\n",
       "      <td>5.475666e-07</td>\n",
       "      <td>3.329965e-08</td>\n",
       "      <td>1.283702e-06</td>\n",
       "      <td>9.987087e-01</td>\n",
       "      <td>7.874153e-07</td>\n",
       "    </tr>\n",
       "    <tr>\n",
       "      <th>ZJ002971</th>\n",
       "      <td>3.492435e-04</td>\n",
       "      <td>1.548906e-03</td>\n",
       "      <td>0.951668</td>\n",
       "      <td>7.612334e-05</td>\n",
       "      <td>5.162883e-06</td>\n",
       "      <td>1.711612e-03</td>\n",
       "      <td>4.424926e-02</td>\n",
       "      <td>3.915918e-04</td>\n",
       "    </tr>\n",
       "  </tbody>\n",
       "</table>\n",
       "<p>12366 rows × 8 columns</p>\n",
       "</div>"
      ],
      "text/plain": [
       "          antelope_duiker          bird     blank   civet_genet           hog  \\\n",
       "ZJ008661     2.524388e-04  6.780370e-06  0.000147  6.258105e-06  3.341844e-08   \n",
       "ZJ011365     8.504174e-02  1.254092e-04  0.907017  9.391791e-05  5.268435e-04   \n",
       "ZJ000363     8.776753e-03  2.355634e-03  0.868383  4.193784e-04  1.198272e-04   \n",
       "ZJ013949     3.703254e-06  7.488484e-07  0.000008  6.661098e-06  1.179227e-08   \n",
       "ZJ006936     7.587492e-08  7.001975e-06  0.000713  9.989408e-01  2.545728e-07   \n",
       "...                   ...           ...       ...           ...           ...   \n",
       "ZJ002982     9.536035e-04  8.553939e-01  0.004887  3.296988e-05  1.260484e-05   \n",
       "ZJ003386     9.999961e-01  1.352411e-08  0.000002  1.363429e-08  4.221592e-07   \n",
       "ZJ010491     4.663473e-06  4.680985e-06  0.000008  3.803094e-05  1.192173e-06   \n",
       "ZJ007858     9.559956e-04  6.288602e-07  0.000332  5.475666e-07  3.329965e-08   \n",
       "ZJ002971     3.492435e-04  1.548906e-03  0.951668  7.612334e-05  5.162883e-06   \n",
       "\n",
       "               leopard  monkey_prosimian        rodent  \n",
       "ZJ008661  3.905043e-09      5.339373e-07  9.995871e-01  \n",
       "ZJ011365  3.096182e-03      4.034366e-03  6.480307e-05  \n",
       "ZJ000363  8.175701e-04      9.761596e-03  1.093663e-01  \n",
       "ZJ013949  7.179294e-10      4.262106e-08  9.999803e-01  \n",
       "ZJ006936  1.232667e-04      3.627699e-06  2.117734e-04  \n",
       "...                ...               ...           ...  \n",
       "ZJ002982  1.572733e-05      1.032635e-03  1.376718e-01  \n",
       "ZJ003386  4.364292e-10      4.171283e-07  9.712741e-07  \n",
       "ZJ010491  1.564732e-08      5.279785e-09  9.999439e-01  \n",
       "ZJ007858  1.283702e-06      9.987087e-01  7.874153e-07  \n",
       "ZJ002971  1.711612e-03      4.424926e-02  3.915918e-04  \n",
       "\n",
       "[12366 rows x 8 columns]"
      ]
     },
     "execution_count": 67,
     "metadata": {},
     "output_type": "execute_result"
    }
   ],
   "source": [
    "preds_collector = []\n",
    "\n",
    "# put the model in eval mode so we don't update any parameters\n",
    "model2.eval()\n",
    "\n",
    "# we aren't updating our weights so no need to calculate gradients\n",
    "with torch.no_grad():\n",
    "    for batch in tqdm(eval_dataloader, total=len(eval_dataloader)):\n",
    "        # 1) run the forward step\n",
    "        logits = model.forward(batch[\"image\"])\n",
    "        # 2) apply softmax so that model outputs are in range [0,1]\n",
    "        preds = nn.functional.softmax(logits, dim=1)\n",
    "        # 3) store this batch's predictions in df\n",
    "        # note that PyTorch Tensors need to first be detached from their computational graph before converting to numpy arrays\n",
    "        preds_df2 = pd.DataFrame(\n",
    "            preds.detach().numpy(),\n",
    "            index=batch[\"image_id\"],\n",
    "            columns=species_labels,\n",
    "        )\n",
    "        preds_collector.append(preds_df2)\n",
    "\n",
    "eval_preds_df2 = pd.concat(preds_collector)\n",
    "eval_preds_df2"
   ]
  },
  {
   "cell_type": "code",
   "execution_count": 68,
   "metadata": {},
   "outputs": [
    {
     "name": "stdout",
     "output_type": "stream",
     "text": [
      "True labels (training):\n"
     ]
    },
    {
     "data": {
      "text/plain": [
       "monkey_prosimian    1869\n",
       "antelope_duiker     1855\n",
       "civet_genet         1817\n",
       "leopard             1691\n",
       "blank               1660\n",
       "rodent              1510\n",
       "bird                1231\n",
       "hog                  733\n",
       "dtype: int64"
      ]
     },
     "execution_count": 68,
     "metadata": {},
     "output_type": "execute_result"
    }
   ],
   "source": [
    "# Predicted labels distribution\n",
    "print(\"True labels (training):\")\n",
    "y_train.idxmax(axis=1).value_counts()"
   ]
  },
  {
   "cell_type": "code",
   "execution_count": 69,
   "metadata": {},
   "outputs": [
    {
     "name": "stdout",
     "output_type": "stream",
     "text": [
      "Predicted labels (eval):\n"
     ]
    },
    {
     "data": {
      "text/plain": [
       "monkey_prosimian    1914\n",
       "antelope_duiker     1857\n",
       "civet_genet         1821\n",
       "leopard             1721\n",
       "blank               1574\n",
       "rodent              1490\n",
       "bird                1261\n",
       "hog                  728\n",
       "dtype: int64"
      ]
     },
     "execution_count": 69,
     "metadata": {},
     "output_type": "execute_result"
    }
   ],
   "source": [
    "print(\"Predicted labels (eval):\")\n",
    "eval_preds_df.idxmax(axis=1).value_counts()"
   ]
  },
  {
   "cell_type": "code",
   "execution_count": 70,
   "metadata": {},
   "outputs": [
    {
     "name": "stdout",
     "output_type": "stream",
     "text": [
      "True labels (eval):\n"
     ]
    },
    {
     "data": {
      "text/plain": [
       "monkey_prosimian    623\n",
       "antelope_duiker     619\n",
       "civet_genet         606\n",
       "leopard             563\n",
       "blank               553\n",
       "rodent              503\n",
       "bird                410\n",
       "hog                 245\n",
       "dtype: int64"
      ]
     },
     "execution_count": 70,
     "metadata": {},
     "output_type": "execute_result"
    }
   ],
   "source": [
    "print(\"True labels (eval):\")\n",
    "y_eval.idxmax(axis=1).value_counts()"
   ]
  },
  {
   "cell_type": "code",
   "execution_count": 71,
   "metadata": {},
   "outputs": [
    {
     "data": {
      "text/plain": [
       "0.05038007439754165"
      ]
     },
     "execution_count": 71,
     "metadata": {},
     "output_type": "execute_result"
    }
   ],
   "source": [
    "eval_true = y_eval.idxmax(axis=1)\n",
    "\n",
    "(eval_true == \"monkey_prosimian\").sum() / len(eval_predictions)"
   ]
  },
  {
   "cell_type": "code",
   "execution_count": 72,
   "metadata": {},
   "outputs": [
    {
     "data": {
      "text/plain": [
       "0.05005660682516578"
      ]
     },
     "execution_count": 72,
     "metadata": {},
     "output_type": "execute_result"
    }
   ],
   "source": [
    "(eval_true == \"antelope_duiker\").sum() / len(eval_predictions)"
   ]
  },
  {
   "cell_type": "code",
   "execution_count": 73,
   "metadata": {},
   "outputs": [
    {
     "data": {
      "text/plain": [
       "0.049005337214944204"
      ]
     },
     "execution_count": 73,
     "metadata": {},
     "output_type": "execute_result"
    }
   ],
   "source": [
    "(eval_true == \"civet_genet\").sum() / len(eval_predictions)"
   ]
  },
  {
   "cell_type": "code",
   "execution_count": 74,
   "metadata": {},
   "outputs": [
    {
     "data": {
      "text/plain": [
       "0.04552806081190361"
      ]
     },
     "execution_count": 74,
     "metadata": {},
     "output_type": "execute_result"
    }
   ],
   "source": [
    "(eval_true == \"leopard\").sum() / len(eval_predictions)"
   ]
  },
  {
   "cell_type": "code",
   "execution_count": 75,
   "metadata": {},
   "outputs": [
    {
     "data": {
      "text/plain": [
       "0.04471939188096393"
      ]
     },
     "execution_count": 75,
     "metadata": {},
     "output_type": "execute_result"
    }
   ],
   "source": [
    "(eval_true == \"blank\").sum() / len(eval_predictions)"
   ]
  },
  {
   "cell_type": "code",
   "execution_count": 76,
   "metadata": {},
   "outputs": [
    {
     "data": {
      "text/plain": [
       "0.04067604722626557"
      ]
     },
     "execution_count": 76,
     "metadata": {},
     "output_type": "execute_result"
    }
   ],
   "source": [
    "(eval_true == \"rodent\").sum() / len(eval_predictions)"
   ]
  },
  {
   "cell_type": "code",
   "execution_count": 77,
   "metadata": {},
   "outputs": [
    {
     "data": {
      "text/plain": [
       "0.033155426168526604"
      ]
     },
     "execution_count": 77,
     "metadata": {},
     "output_type": "execute_result"
    }
   ],
   "source": [
    "(eval_true == \"bird\").sum() / len(eval_predictions)"
   ]
  },
  {
   "cell_type": "code",
   "execution_count": 78,
   "metadata": {},
   "outputs": [
    {
     "data": {
      "text/plain": [
       "0.019812388808021997"
      ]
     },
     "execution_count": 78,
     "metadata": {},
     "output_type": "execute_result"
    }
   ],
   "source": [
    "(eval_true == \"hog\").sum() / len(eval_predictions)"
   ]
  },
  {
   "cell_type": "code",
   "execution_count": 79,
   "metadata": {},
   "outputs": [
    {
     "ename": "ValueError",
     "evalue": "Found input variables with inconsistent numbers of samples: [4122, 12366]",
     "output_type": "error",
     "traceback": [
      "\u001b[1;31m---------------------------------------------------------------------------\u001b[0m",
      "\u001b[1;31mValueError\u001b[0m                                Traceback (most recent call last)",
      "\u001b[1;32m<ipython-input-79-f660804cdfbd>\u001b[0m in \u001b[0;36m<module>\u001b[1;34m\u001b[0m\n\u001b[0;32m      2\u001b[0m \u001b[1;33m\u001b[0m\u001b[0m\n\u001b[0;32m      3\u001b[0m \u001b[0mfig\u001b[0m\u001b[1;33m,\u001b[0m \u001b[0max\u001b[0m \u001b[1;33m=\u001b[0m \u001b[0mplt\u001b[0m\u001b[1;33m.\u001b[0m\u001b[0msubplots\u001b[0m\u001b[1;33m(\u001b[0m\u001b[0mfigsize\u001b[0m\u001b[1;33m=\u001b[0m\u001b[1;33m(\u001b[0m\u001b[1;36m10\u001b[0m\u001b[1;33m,\u001b[0m \u001b[1;36m10\u001b[0m\u001b[1;33m)\u001b[0m\u001b[1;33m)\u001b[0m\u001b[1;33m\u001b[0m\u001b[1;33m\u001b[0m\u001b[0m\n\u001b[1;32m----> 4\u001b[1;33m cm = ConfusionMatrixDisplay.from_predictions(\n\u001b[0m\u001b[0;32m      5\u001b[0m     \u001b[0my_eval\u001b[0m\u001b[1;33m.\u001b[0m\u001b[0midxmax\u001b[0m\u001b[1;33m(\u001b[0m\u001b[0maxis\u001b[0m\u001b[1;33m=\u001b[0m\u001b[1;36m1\u001b[0m\u001b[1;33m)\u001b[0m\u001b[1;33m,\u001b[0m\u001b[1;33m\u001b[0m\u001b[1;33m\u001b[0m\u001b[0m\n\u001b[0;32m      6\u001b[0m     \u001b[0meval_preds_df\u001b[0m\u001b[1;33m.\u001b[0m\u001b[0midxmax\u001b[0m\u001b[1;33m(\u001b[0m\u001b[0maxis\u001b[0m\u001b[1;33m=\u001b[0m\u001b[1;36m1\u001b[0m\u001b[1;33m)\u001b[0m\u001b[1;33m,\u001b[0m\u001b[1;33m\u001b[0m\u001b[1;33m\u001b[0m\u001b[0m\n",
      "\u001b[1;32m~\\anaconda3\\lib\\site-packages\\sklearn\\metrics\\_plot\\confusion_matrix.py\u001b[0m in \u001b[0;36mfrom_predictions\u001b[1;34m(cls, y_true, y_pred, labels, sample_weight, normalize, display_labels, include_values, xticks_rotation, values_format, cmap, ax, colorbar, im_kw, text_kw)\u001b[0m\n\u001b[0;32m    461\u001b[0m                 \u001b[0mdisplay_labels\u001b[0m \u001b[1;33m=\u001b[0m \u001b[0mlabels\u001b[0m\u001b[1;33m\u001b[0m\u001b[1;33m\u001b[0m\u001b[0m\n\u001b[0;32m    462\u001b[0m \u001b[1;33m\u001b[0m\u001b[0m\n\u001b[1;32m--> 463\u001b[1;33m         cm = confusion_matrix(\n\u001b[0m\u001b[0;32m    464\u001b[0m             \u001b[0my_true\u001b[0m\u001b[1;33m,\u001b[0m\u001b[1;33m\u001b[0m\u001b[1;33m\u001b[0m\u001b[0m\n\u001b[0;32m    465\u001b[0m             \u001b[0my_pred\u001b[0m\u001b[1;33m,\u001b[0m\u001b[1;33m\u001b[0m\u001b[1;33m\u001b[0m\u001b[0m\n",
      "\u001b[1;32m~\\anaconda3\\lib\\site-packages\\sklearn\\utils\\_param_validation.py\u001b[0m in \u001b[0;36mwrapper\u001b[1;34m(*args, **kwargs)\u001b[0m\n\u001b[0;32m    209\u001b[0m                     )\n\u001b[0;32m    210\u001b[0m                 ):\n\u001b[1;32m--> 211\u001b[1;33m                     \u001b[1;32mreturn\u001b[0m \u001b[0mfunc\u001b[0m\u001b[1;33m(\u001b[0m\u001b[1;33m*\u001b[0m\u001b[0margs\u001b[0m\u001b[1;33m,\u001b[0m \u001b[1;33m**\u001b[0m\u001b[0mkwargs\u001b[0m\u001b[1;33m)\u001b[0m\u001b[1;33m\u001b[0m\u001b[1;33m\u001b[0m\u001b[0m\n\u001b[0m\u001b[0;32m    212\u001b[0m             \u001b[1;32mexcept\u001b[0m \u001b[0mInvalidParameterError\u001b[0m \u001b[1;32mas\u001b[0m \u001b[0me\u001b[0m\u001b[1;33m:\u001b[0m\u001b[1;33m\u001b[0m\u001b[1;33m\u001b[0m\u001b[0m\n\u001b[0;32m    213\u001b[0m                 \u001b[1;31m# When the function is just a wrapper around an estimator, we allow\u001b[0m\u001b[1;33m\u001b[0m\u001b[1;33m\u001b[0m\u001b[1;33m\u001b[0m\u001b[0m\n",
      "\u001b[1;32m~\\anaconda3\\lib\\site-packages\\sklearn\\metrics\\_classification.py\u001b[0m in \u001b[0;36mconfusion_matrix\u001b[1;34m(y_true, y_pred, labels, sample_weight, normalize)\u001b[0m\n\u001b[0;32m    324\u001b[0m     \u001b[1;33m(\u001b[0m\u001b[1;36m0\u001b[0m\u001b[1;33m,\u001b[0m \u001b[1;36m2\u001b[0m\u001b[1;33m,\u001b[0m \u001b[1;36m1\u001b[0m\u001b[1;33m,\u001b[0m \u001b[1;36m1\u001b[0m\u001b[1;33m)\u001b[0m\u001b[1;33m\u001b[0m\u001b[1;33m\u001b[0m\u001b[0m\n\u001b[0;32m    325\u001b[0m     \"\"\"\n\u001b[1;32m--> 326\u001b[1;33m     \u001b[0my_type\u001b[0m\u001b[1;33m,\u001b[0m \u001b[0my_true\u001b[0m\u001b[1;33m,\u001b[0m \u001b[0my_pred\u001b[0m \u001b[1;33m=\u001b[0m \u001b[0m_check_targets\u001b[0m\u001b[1;33m(\u001b[0m\u001b[0my_true\u001b[0m\u001b[1;33m,\u001b[0m \u001b[0my_pred\u001b[0m\u001b[1;33m)\u001b[0m\u001b[1;33m\u001b[0m\u001b[1;33m\u001b[0m\u001b[0m\n\u001b[0m\u001b[0;32m    327\u001b[0m     \u001b[1;32mif\u001b[0m \u001b[0my_type\u001b[0m \u001b[1;32mnot\u001b[0m \u001b[1;32min\u001b[0m \u001b[1;33m(\u001b[0m\u001b[1;34m\"binary\"\u001b[0m\u001b[1;33m,\u001b[0m \u001b[1;34m\"multiclass\"\u001b[0m\u001b[1;33m)\u001b[0m\u001b[1;33m:\u001b[0m\u001b[1;33m\u001b[0m\u001b[1;33m\u001b[0m\u001b[0m\n\u001b[0;32m    328\u001b[0m         \u001b[1;32mraise\u001b[0m \u001b[0mValueError\u001b[0m\u001b[1;33m(\u001b[0m\u001b[1;34m\"%s is not supported\"\u001b[0m \u001b[1;33m%\u001b[0m \u001b[0my_type\u001b[0m\u001b[1;33m)\u001b[0m\u001b[1;33m\u001b[0m\u001b[1;33m\u001b[0m\u001b[0m\n",
      "\u001b[1;32m~\\anaconda3\\lib\\site-packages\\sklearn\\metrics\\_classification.py\u001b[0m in \u001b[0;36m_check_targets\u001b[1;34m(y_true, y_pred)\u001b[0m\n\u001b[0;32m     82\u001b[0m     \u001b[0my_pred\u001b[0m \u001b[1;33m:\u001b[0m \u001b[0marray\u001b[0m \u001b[1;32mor\u001b[0m \u001b[0mindicator\u001b[0m \u001b[0mmatrix\u001b[0m\u001b[1;33m\u001b[0m\u001b[1;33m\u001b[0m\u001b[0m\n\u001b[0;32m     83\u001b[0m     \"\"\"\n\u001b[1;32m---> 84\u001b[1;33m     \u001b[0mcheck_consistent_length\u001b[0m\u001b[1;33m(\u001b[0m\u001b[0my_true\u001b[0m\u001b[1;33m,\u001b[0m \u001b[0my_pred\u001b[0m\u001b[1;33m)\u001b[0m\u001b[1;33m\u001b[0m\u001b[1;33m\u001b[0m\u001b[0m\n\u001b[0m\u001b[0;32m     85\u001b[0m     \u001b[0mtype_true\u001b[0m \u001b[1;33m=\u001b[0m \u001b[0mtype_of_target\u001b[0m\u001b[1;33m(\u001b[0m\u001b[0my_true\u001b[0m\u001b[1;33m,\u001b[0m \u001b[0minput_name\u001b[0m\u001b[1;33m=\u001b[0m\u001b[1;34m\"y_true\"\u001b[0m\u001b[1;33m)\u001b[0m\u001b[1;33m\u001b[0m\u001b[1;33m\u001b[0m\u001b[0m\n\u001b[0;32m     86\u001b[0m     \u001b[0mtype_pred\u001b[0m \u001b[1;33m=\u001b[0m \u001b[0mtype_of_target\u001b[0m\u001b[1;33m(\u001b[0m\u001b[0my_pred\u001b[0m\u001b[1;33m,\u001b[0m \u001b[0minput_name\u001b[0m\u001b[1;33m=\u001b[0m\u001b[1;34m\"y_pred\"\u001b[0m\u001b[1;33m)\u001b[0m\u001b[1;33m\u001b[0m\u001b[1;33m\u001b[0m\u001b[0m\n",
      "\u001b[1;32m~\\anaconda3\\lib\\site-packages\\sklearn\\utils\\validation.py\u001b[0m in \u001b[0;36mcheck_consistent_length\u001b[1;34m(*arrays)\u001b[0m\n\u001b[0;32m    407\u001b[0m     \u001b[0muniques\u001b[0m \u001b[1;33m=\u001b[0m \u001b[0mnp\u001b[0m\u001b[1;33m.\u001b[0m\u001b[0munique\u001b[0m\u001b[1;33m(\u001b[0m\u001b[0mlengths\u001b[0m\u001b[1;33m)\u001b[0m\u001b[1;33m\u001b[0m\u001b[1;33m\u001b[0m\u001b[0m\n\u001b[0;32m    408\u001b[0m     \u001b[1;32mif\u001b[0m \u001b[0mlen\u001b[0m\u001b[1;33m(\u001b[0m\u001b[0muniques\u001b[0m\u001b[1;33m)\u001b[0m \u001b[1;33m>\u001b[0m \u001b[1;36m1\u001b[0m\u001b[1;33m:\u001b[0m\u001b[1;33m\u001b[0m\u001b[1;33m\u001b[0m\u001b[0m\n\u001b[1;32m--> 409\u001b[1;33m         raise ValueError(\n\u001b[0m\u001b[0;32m    410\u001b[0m             \u001b[1;34m\"Found input variables with inconsistent numbers of samples: %r\"\u001b[0m\u001b[1;33m\u001b[0m\u001b[1;33m\u001b[0m\u001b[0m\n\u001b[0;32m    411\u001b[0m             \u001b[1;33m%\u001b[0m \u001b[1;33m[\u001b[0m\u001b[0mint\u001b[0m\u001b[1;33m(\u001b[0m\u001b[0ml\u001b[0m\u001b[1;33m)\u001b[0m \u001b[1;32mfor\u001b[0m \u001b[0ml\u001b[0m \u001b[1;32min\u001b[0m \u001b[0mlengths\u001b[0m\u001b[1;33m]\u001b[0m\u001b[1;33m\u001b[0m\u001b[1;33m\u001b[0m\u001b[0m\n",
      "\u001b[1;31mValueError\u001b[0m: Found input variables with inconsistent numbers of samples: [4122, 12366]"
     ]
    },
    {
     "data": {
      "image/png": "[encoded data removed]",
      "text/plain": [
       "<Figure size 720x720 with 1 Axes>"
      ]
     },
     "metadata": {
      "needs_background": "light"
     },
     "output_type": "display_data"
    }
   ],
   "source": [
    "from sklearn.metrics import ConfusionMatrixDisplay\n",
    "\n",
    "fig, ax = plt.subplots(figsize=(10, 10))\n",
    "cm = ConfusionMatrixDisplay.from_predictions(\n",
    "    y_eval.idxmax(axis=1),\n",
    "    eval_preds_df.idxmax(axis=1),\n",
    "    ax=ax,\n",
    "    xticks_rotation=90,\n",
    "    colorbar=True,\n",
    ")"
   ]
  },
  {
   "cell_type": "code",
   "execution_count": 80,
   "metadata": {},
   "outputs": [],
   "source": [
    "### 5.3 Prediction on Test Dataset"
   ]
  },
  {
   "cell_type": "code",
   "execution_count": 81,
   "metadata": {},
   "outputs": [],
   "source": [
    "test_dataset = ImagesDataset(test_features.filepath.to_frame())\n",
    "test_dataloader = DataLoader(test_dataset, batch_size=32)"
   ]
  },
  {
   "cell_type": "code",
   "execution_count": 82,
   "metadata": {},
   "outputs": [
    {
     "name": "stderr",
     "output_type": "stream",
     "text": [
      "100%|████████████████████████████████████████████████████████████████████████████████| 387/387 [04:51<00:00,  1.33it/s]\n"
     ]
    },
    {
     "data": {
      "text/html": [
       "<div>\n",
       "<style scoped>\n",
       "    .dataframe tbody tr th:only-of-type {\n",
       "        vertical-align: middle;\n",
       "    }\n",
       "\n",
       "    .dataframe tbody tr th {\n",
       "        vertical-align: top;\n",
       "    }\n",
       "\n",
       "    .dataframe thead th {\n",
       "        text-align: right;\n",
       "    }\n",
       "</style>\n",
       "<table border=\"1\" class=\"dataframe\">\n",
       "  <thead>\n",
       "    <tr style=\"text-align: right;\">\n",
       "      <th></th>\n",
       "      <th>antelope_duiker</th>\n",
       "      <th>bird</th>\n",
       "      <th>blank</th>\n",
       "      <th>civet_genet</th>\n",
       "      <th>hog</th>\n",
       "      <th>leopard</th>\n",
       "      <th>monkey_prosimian</th>\n",
       "      <th>rodent</th>\n",
       "    </tr>\n",
       "  </thead>\n",
       "  <tbody>\n",
       "    <tr>\n",
       "      <th>ZJ008661</th>\n",
       "      <td>0.007329</td>\n",
       "      <td>0.032709</td>\n",
       "      <td>0.015101</td>\n",
       "      <td>0.000254</td>\n",
       "      <td>0.000119</td>\n",
       "      <td>0.000614</td>\n",
       "      <td>0.008012</td>\n",
       "      <td>0.935861</td>\n",
       "    </tr>\n",
       "    <tr>\n",
       "      <th>ZJ011365</th>\n",
       "      <td>0.823700</td>\n",
       "      <td>0.000671</td>\n",
       "      <td>0.056891</td>\n",
       "      <td>0.000013</td>\n",
       "      <td>0.045689</td>\n",
       "      <td>0.071205</td>\n",
       "      <td>0.000632</td>\n",
       "      <td>0.001199</td>\n",
       "    </tr>\n",
       "    <tr>\n",
       "      <th>ZJ000363</th>\n",
       "      <td>0.242345</td>\n",
       "      <td>0.009500</td>\n",
       "      <td>0.407502</td>\n",
       "      <td>0.001653</td>\n",
       "      <td>0.130218</td>\n",
       "      <td>0.031847</td>\n",
       "      <td>0.061709</td>\n",
       "      <td>0.115227</td>\n",
       "    </tr>\n",
       "    <tr>\n",
       "      <th>ZJ013949</th>\n",
       "      <td>0.000384</td>\n",
       "      <td>0.005500</td>\n",
       "      <td>0.002155</td>\n",
       "      <td>0.000123</td>\n",
       "      <td>0.000056</td>\n",
       "      <td>0.000100</td>\n",
       "      <td>0.004795</td>\n",
       "      <td>0.986887</td>\n",
       "    </tr>\n",
       "    <tr>\n",
       "      <th>ZJ006936</th>\n",
       "      <td>0.020984</td>\n",
       "      <td>0.001726</td>\n",
       "      <td>0.073536</td>\n",
       "      <td>0.881430</td>\n",
       "      <td>0.002196</td>\n",
       "      <td>0.002400</td>\n",
       "      <td>0.000048</td>\n",
       "      <td>0.017680</td>\n",
       "    </tr>\n",
       "    <tr>\n",
       "      <th>...</th>\n",
       "      <td>...</td>\n",
       "      <td>...</td>\n",
       "      <td>...</td>\n",
       "      <td>...</td>\n",
       "      <td>...</td>\n",
       "      <td>...</td>\n",
       "      <td>...</td>\n",
       "      <td>...</td>\n",
       "    </tr>\n",
       "    <tr>\n",
       "      <th>ZJ002982</th>\n",
       "      <td>0.093211</td>\n",
       "      <td>0.435883</td>\n",
       "      <td>0.098688</td>\n",
       "      <td>0.006269</td>\n",
       "      <td>0.037743</td>\n",
       "      <td>0.003873</td>\n",
       "      <td>0.060434</td>\n",
       "      <td>0.263899</td>\n",
       "    </tr>\n",
       "    <tr>\n",
       "      <th>ZJ003386</th>\n",
       "      <td>0.973679</td>\n",
       "      <td>0.000193</td>\n",
       "      <td>0.020771</td>\n",
       "      <td>0.000003</td>\n",
       "      <td>0.000033</td>\n",
       "      <td>0.000033</td>\n",
       "      <td>0.005209</td>\n",
       "      <td>0.000080</td>\n",
       "    </tr>\n",
       "    <tr>\n",
       "      <th>ZJ010491</th>\n",
       "      <td>0.000191</td>\n",
       "      <td>0.000077</td>\n",
       "      <td>0.002485</td>\n",
       "      <td>0.005573</td>\n",
       "      <td>0.000716</td>\n",
       "      <td>0.000062</td>\n",
       "      <td>0.000021</td>\n",
       "      <td>0.990874</td>\n",
       "    </tr>\n",
       "    <tr>\n",
       "      <th>ZJ007858</th>\n",
       "      <td>0.007584</td>\n",
       "      <td>0.000017</td>\n",
       "      <td>0.003423</td>\n",
       "      <td>0.000010</td>\n",
       "      <td>0.000002</td>\n",
       "      <td>0.000650</td>\n",
       "      <td>0.985819</td>\n",
       "      <td>0.002497</td>\n",
       "    </tr>\n",
       "    <tr>\n",
       "      <th>ZJ002971</th>\n",
       "      <td>0.060371</td>\n",
       "      <td>0.018200</td>\n",
       "      <td>0.701957</td>\n",
       "      <td>0.015591</td>\n",
       "      <td>0.054185</td>\n",
       "      <td>0.013719</td>\n",
       "      <td>0.041582</td>\n",
       "      <td>0.094395</td>\n",
       "    </tr>\n",
       "  </tbody>\n",
       "</table>\n",
       "<p>12366 rows × 8 columns</p>\n",
       "</div>"
      ],
      "text/plain": [
       "          antelope_duiker      bird     blank  civet_genet       hog  \\\n",
       "ZJ008661         0.007329  0.032709  0.015101     0.000254  0.000119   \n",
       "ZJ011365         0.823700  0.000671  0.056891     0.000013  0.045689   \n",
       "ZJ000363         0.242345  0.009500  0.407502     0.001653  0.130218   \n",
       "ZJ013949         0.000384  0.005500  0.002155     0.000123  0.000056   \n",
       "ZJ006936         0.020984  0.001726  0.073536     0.881430  0.002196   \n",
       "...                   ...       ...       ...          ...       ...   \n",
       "ZJ002982         0.093211  0.435883  0.098688     0.006269  0.037743   \n",
       "ZJ003386         0.973679  0.000193  0.020771     0.000003  0.000033   \n",
       "ZJ010491         0.000191  0.000077  0.002485     0.005573  0.000716   \n",
       "ZJ007858         0.007584  0.000017  0.003423     0.000010  0.000002   \n",
       "ZJ002971         0.060371  0.018200  0.701957     0.015591  0.054185   \n",
       "\n",
       "           leopard  monkey_prosimian    rodent  \n",
       "ZJ008661  0.000614          0.008012  0.935861  \n",
       "ZJ011365  0.071205          0.000632  0.001199  \n",
       "ZJ000363  0.031847          0.061709  0.115227  \n",
       "ZJ013949  0.000100          0.004795  0.986887  \n",
       "ZJ006936  0.002400          0.000048  0.017680  \n",
       "...            ...               ...       ...  \n",
       "ZJ002982  0.003873          0.060434  0.263899  \n",
       "ZJ003386  0.000033          0.005209  0.000080  \n",
       "ZJ010491  0.000062          0.000021  0.990874  \n",
       "ZJ007858  0.000650          0.985819  0.002497  \n",
       "ZJ002971  0.013719          0.041582  0.094395  \n",
       "\n",
       "[12366 rows x 8 columns]"
      ]
     },
     "execution_count": 82,
     "metadata": {},
     "output_type": "execute_result"
    }
   ],
   "source": [
    "preds_collector = []\n",
    "\n",
    "model2.eval()\n",
    "\n",
    "with torch.no_grad():\n",
    "    for batch in tqdm(test_dataloader, total=len(test_dataloader)):\n",
    "        # run the forward step\n",
    "        logits = model2.forward(batch[\"image\"])\n",
    "        # apply softmax so that model outputs are in range [0,1]\n",
    "        preds = nn.functional.softmax(logits, dim=1)\n",
    "        # store this batch's predictions in df\n",
    "        preds_df = pd.DataFrame(\n",
    "            preds.detach().numpy(),\n",
    "            index=batch[\"image_id\"],\n",
    "            columns=species_labels,\n",
    "        )\n",
    "        preds_collector.append(preds_df)\n",
    "\n",
    "predicted_test_nolabel2 = pd.concat(preds_collector)\n",
    "predicted_test_nolabel2"
   ]
  },
  {
   "cell_type": "code",
   "execution_count": null,
   "metadata": {},
   "outputs": [],
   "source": []
  }
 ],
 "metadata": {
  "colab": {
   "gpuType": "A100",
   "provenance": []
  },
  "kernelspec": {
   "display_name": "Python 3",
   "language": "python",
   "name": "python3"
  },
  "language_info": {
   "codemirror_mode": {
    "name": "ipython",
    "version": 3
   },
   "file_extension": ".py",
   "mimetype": "text/x-python",
   "name": "python",
   "nbconvert_exporter": "python",
   "pygments_lexer": "ipython3",
   "version": "3.8.3"
  }
 },
 "nbformat": 4,
 "nbformat_minor": 1
}
